{
 "cells": [
  {
   "cell_type": "markdown",
   "metadata": {
    "colab_type": "text",
    "id": "pJupgNDem-NC"
   },
   "source": [
    "# Music listening history analysis"
   ]
  },
  {
   "cell_type": "markdown",
   "metadata": {
    "colab_type": "text",
    "id": "CTsjdJcjm-ND"
   },
   "source": [
    "Import required packages"
   ]
  },
  {
   "cell_type": "code",
   "execution_count": 1,
   "metadata": {
    "colab": {
     "base_uri": "https://localhost:8080/",
     "height": 790
    },
    "colab_type": "code",
    "id": "rpchWmygm-NE",
    "outputId": "26b82190-9a35-4308-b20b-c7e234e93b4c"
   },
   "outputs": [],
   "source": [
    "import lfmxtractplus as lxp\n",
    "import pandas as pd\n",
    "import matplotlib.pyplot as plt\n",
    "import datetime as dt\n",
    "import seaborn as sns\n",
    "import calmap as cm\n",
    "from IPython.display import display, HTML\n",
    "\n",
    "%matplotlib inline\n"
   ]
  },
  {
   "cell_type": "markdown",
   "metadata": {
    "colab_type": "text",
    "id": "OH5jyEQ9m-NG"
   },
   "source": [
    "initialize lfmxtractplus with config.yaml"
   ]
  },
  {
   "cell_type": "code",
   "execution_count": null,
   "metadata": {
    "colab": {
     "base_uri": "https://localhost:8080/",
     "height": 70
    },
    "colab_type": "code",
    "id": "ca70mpdHm-NH",
    "outputId": "6c79be89-da10-44ef-be0f-191b5cee5164",
    "scrolled": true
   },
   "outputs": [
    {
     "name": "stdout",
     "output_type": "stream",
     "text": [
      "https://accounts.spotify.com/authorize?client_id=c6df0ec4beda4f589b5984801224bfd6&response_type=code&redirect_uri=https%3A%2F%2Fexample.com%2Fcallback%2F\n",
      "Paste the above link into your browser, then paste the redirect url here: https://example.com/callback/?code=AQAGK4MMTvpJZjpK9xMpuJOI6Izj5fPMJwI3fEH3uPVSbp177uxrj-TQOjSnt-bdlIxU3-1JIhjYzyb5Ly7yKZ9PcTPlOIsqdA7fOSAf49rk7JlENfkNBzDQxV1x3zXgAKq-YqF9WrCV-1jcOZxyIqpBe5Oe7FrjA8UD6_woKyNg2S2OoWhQXp3rResiNSfKLtXExeM\n"
     ]
    }
   ],
   "source": [
    "lf = lxp.lfmxtractplus('C:\\\\Users\\Madhan\\PycharmProjects\\lfm4pandas\\config.yaml')\n",
    "#lf.initialize('C:\\\\Users\\Madhan\\PycharmProjects\\lfm4pandas\\config.yaml')"
   ]
  },
  {
   "cell_type": "markdown",
   "metadata": {
    "colab_type": "text",
    "id": "c9NhqZN6m-NK"
   },
   "source": [
    "Get listening history from last.fm and enrich with spotify audio features"
   ]
  },
  {
   "cell_type": "code",
   "execution_count": null,
   "metadata": {
    "colab": {
     "base_uri": "https://localhost:8080/",
     "height": 252
    },
    "colab_type": "code",
    "id": "LYtw-ESLm-NK",
    "outputId": "608960f2-4669-4b73-fca8-4e31f835d038",
    "scrolled": true
   },
   "outputs": [
    {
     "name": "stdout",
     "output_type": "stream",
     "text": [
      "\n",
      "Fetching data from last.fm for user madhan_001\n",
      "\n",
      "16007 total tracks scrobbled by the user\n",
      "\n",
      "81 total pages to retrieve\n"
     ]
    },
    {
     "name": "stderr",
     "output_type": "stream",
     "text": [
      "100%|██████████████████████████████████████████████████████████████████████████████████| 81/81 [04:14<00:00,  2.59s/it]\n"
     ]
    },
    {
     "name": "stdout",
     "output_type": "stream",
     "text": [
      "\n",
      "\n",
      "Fetching SpotifyID for tracks\n"
     ]
    },
    {
     "name": "stderr",
     "output_type": "stream",
     "text": [
      " 88%|████████████████████████████████████████████████████████████████████▊         | 1659/1880 [07:21<00:59,  3.70it/s]"
     ]
    }
   ],
   "source": [
    "scrobbles_dict = lf.generate_dataset(lfusername='madhan_001', pages=0)\n",
    "scrobbles_df = scrobbles_dict['complete']"
   ]
  },
  {
   "cell_type": "markdown",
   "metadata": {
    "colab_type": "text",
    "id": "gXEL63f3m-NN"
   },
   "source": [
    "Display extracted data"
   ]
  },
  {
   "cell_type": "code",
   "execution_count": null,
   "metadata": {
    "colab": {
     "base_uri": "https://localhost:8080/",
     "height": 501
    },
    "colab_type": "code",
    "id": "E0FTbZ97m-NO",
    "outputId": "f1bcac6d-0c65-4395-cf8e-b8232f29d386",
    "scrolled": false
   },
   "outputs": [],
   "source": [
    "print(\"Plays by timestamp\")\n",
    "display(HTML(scrobbles_df.head(5).to_html()))"
   ]
  },
  {
   "cell_type": "code",
   "execution_count": null,
   "metadata": {
    "colab": {
     "base_uri": "https://localhost:8080/",
     "height": 299
    },
    "colab_type": "code",
    "id": "f9J0ZuRfm-NQ",
    "outputId": "fd8094e1-4b0f-40fb-9f8a-e630d3b45fec"
   },
   "outputs": [],
   "source": [
    "library_df = scrobbles_dict['library']\n",
    "display(HTML(library_df.head(5).to_html()))\n"
   ]
  },
  {
   "cell_type": "markdown",
   "metadata": {
    "colab": {},
    "colab_type": "code",
    "id": "eXvxSSstm-NZ"
   },
   "source": [
    "Unmapped tracks"
   ]
  },
  {
   "cell_type": "code",
   "execution_count": null,
   "metadata": {
    "colab": {
     "base_uri": "https://localhost:8080/",
     "height": 1000
    },
    "colab_type": "code",
    "id": "iYTj-E_qm-NS",
    "outputId": "c807e423-1de2-4ca1-8350-2109b1dafa9d",
    "pycharm": {
     "is_executing": false
    },
    "scrolled": true
   },
   "outputs": [],
   "source": [
    "unmapped_track_df = lf.unmapped_tracks(library_df)\n",
    "display(HTML(unmapped_track_df.to_html()))\n",
    "#unmapped_track_df.to_csv(\"unmappable.tsv\", sep='\\t')"
   ]
  },
  {
   "cell_type": "markdown",
   "metadata": {
    "colab": {},
    "colab_type": "code",
    "id": "dwTGSFpzm-Nb"
   },
   "source": [
    "Dropping rows with unmapped tracks from scrobbles_df"
   ]
  },
  {
   "cell_type": "code",
   "execution_count": null,
   "metadata": {},
   "outputs": [],
   "source": [
    "scrobbles_df = scrobbles_df[pd.notnull(scrobbles_df['trackID'])]\n",
    "display(HTML(lf.unmapped_tracks(scrobbles_df).head(5).to_html()))"
   ]
  },
  {
   "cell_type": "markdown",
   "metadata": {},
   "source": [
    "Dropping rows with unmapped tracks from library_df"
   ]
  },
  {
   "cell_type": "code",
   "execution_count": null,
   "metadata": {},
   "outputs": [],
   "source": [
    "library_df = library_df[pd.notnull(library_df['trackID'])]\n",
    "display(HTML(lf.unmapped_tracks(library_df).head(5).to_html()))"
   ]
  },
  {
   "cell_type": "markdown",
   "metadata": {},
   "source": [
    "creating artist_df to get number of plays from each artist"
   ]
  },
  {
   "cell_type": "code",
   "execution_count": null,
   "metadata": {},
   "outputs": [],
   "source": [
    "artist_df = scrobbles_df.groupby(['artist_name']).size().reset_index()\n",
    "artist_df.rename(columns={0: 'frequency'}, inplace=True)\n",
    "artist_df.set_index(['artist_name'], inplace=True)\n",
    "artist_df.sort_values(\"frequency\",inplace=True, ascending=False)\n",
    "display(HTML(artist_df.head(5).to_html()))"
   ]
  },
  {
   "cell_type": "markdown",
   "metadata": {},
   "source": [
    "plotting barplot for top 20 artists"
   ]
  },
  {
   "cell_type": "code",
   "execution_count": null,
   "metadata": {},
   "outputs": [],
   "source": [
    "ax = artist_df.head(20).plot(kind='bar', figsize=[16, 7], width=0.8, alpha=0.7, color='#990000')\n",
    "ax.yaxis.grid(True)\n",
    "ax.set_xticklabels(artist_df.index,rotation=45, rotation_mode='anchor', ha='right')\n",
    "ax.set_title('Top 20 artists')\n",
    "ax.set_xlabel('',)\n",
    "ax.set_ylabel('Number of plays')\n",
    "\n",
    "plt.show()"
   ]
  },
  {
   "cell_type": "markdown",
   "metadata": {},
   "source": [
    "creating artist_df to get number of plays from each artist"
   ]
  },
  {
   "cell_type": "code",
   "execution_count": null,
   "metadata": {},
   "outputs": [],
   "source": [
    "track_df = scrobbles_df.groupby(['track_name']).size().reset_index()\n",
    "track_df.rename(columns={0: 'frequency'}, inplace=True)\n",
    "track_df.set_index(['track_name'], inplace=True)\n",
    "track_df.sort_values(\"frequency\",inplace=True, ascending=False)\n",
    "display(HTML(track_df.head(5).to_html()))"
   ]
  },
  {
   "cell_type": "markdown",
   "metadata": {},
   "source": [
    "plotting barplot for top 20 tracks"
   ]
  },
  {
   "cell_type": "code",
   "execution_count": null,
   "metadata": {},
   "outputs": [],
   "source": [
    "ax = track_df.head(20).plot(kind='bar', figsize=[16, 7], width=0.8, alpha=0.7, color='#990000')\n",
    "ax.yaxis.grid(True)\n",
    "ax.set_xticklabels(track_df.index,rotation=55, rotation_mode='anchor', ha='right')\n",
    "ax.set_title('Top 20 tracks')\n",
    "ax.set_xlabel('',)\n",
    "ax.set_ylabel('Number of plays')\n",
    "\n",
    "plt.show()"
   ]
  },
  {
   "cell_type": "markdown",
   "metadata": {},
   "source": [
    "creating album_df to get number of plays from each artist"
   ]
  },
  {
   "cell_type": "code",
   "execution_count": null,
   "metadata": {},
   "outputs": [],
   "source": [
    "album_df = scrobbles_df.groupby(['album_name']).size().reset_index()\n",
    "album_df.rename(columns={0: 'frequency'}, inplace=True)\n",
    "album_df.set_index(['album_name'], inplace=True)\n",
    "album_df.sort_values(\"frequency\",inplace=True, ascending=False)\n",
    "display(HTML(album_df.head(5).to_html()))"
   ]
  },
  {
   "cell_type": "code",
   "execution_count": null,
   "metadata": {},
   "outputs": [],
   "source": [
    "ax = album_df.head(20).plot(kind='bar', figsize=[16, 7], width=0.8, alpha=0.7, color='#990000')\n",
    "ax.yaxis.grid(True)\n",
    "ax.set_xticklabels(album_df.index,rotation=55, rotation_mode='anchor', ha='right')\n",
    "ax.set_title('Top 20 albums')\n",
    "ax.set_xlabel('',)\n",
    "ax.set_ylabel('Number of plays')\n",
    "\n",
    "plt.show()"
   ]
  },
  {
   "cell_type": "markdown",
   "metadata": {},
   "source": [
    "creating genre_df to get number of plays from each artist"
   ]
  },
  {
   "cell_type": "code",
   "execution_count": null,
   "metadata": {},
   "outputs": [],
   "source": [
    "genre_df = scrobbles_df.groupby(['genre_name']).size().reset_index()\n",
    "genre_df.rename(columns={0: 'frequency'}, inplace=True)\n",
    "genre_df.set_index(['genre_name'], inplace=True)\n",
    "genre_df.sort_values(\"frequency\",inplace=True, ascending=False)\n",
    "display(HTML(genre_df.head(5).to_html()))"
   ]
  },
  {
   "cell_type": "code",
   "execution_count": null,
   "metadata": {},
   "outputs": [],
   "source": [
    "ax = genre_df.head(20).plot(kind='bar', figsize=[16, 7], width=0.8, alpha=0.7, color='#1db954')\n",
    "ax.yaxis.grid(True)\n",
    "ax.set_xticklabels(genre_df.index,rotation=55, rotation_mode='anchor', ha='right')\n",
    "ax.set_title('Top 20 genres')\n",
    "ax.set_xlabel('',)\n",
    "ax.set_ylabel('Number of plays')\n",
    "\n",
    "plt.show()"
   ]
  },
  {
   "cell_type": "markdown",
   "metadata": {},
   "source": [
    "#### Listening habits"
   ]
  },
  {
   "cell_type": "markdown",
   "metadata": {},
   "source": [
    "Tracks listened by the hour of day"
   ]
  },
  {
   "cell_type": "code",
   "execution_count": null,
   "metadata": {},
   "outputs": [],
   "source": [
    "hour = pd.DataFrame()\n",
    "\n",
    "hour['hour'] = sorted(scrobbles_df['datetime'].dt.hour.unique())\n",
    "hour['h_freq'] = scrobbles_df['datetime'].dt.hour.value_counts(sort=True)\n",
    "hour = hour.set_index('hour')['h_freq']\n",
    "print(hour.head(25))"
   ]
  },
  {
   "cell_type": "code",
   "execution_count": null,
   "metadata": {},
   "outputs": [],
   "source": [
    "ax = hour.plot(kind='bar', figsize=[14, 6], width=0.7, alpha=0.6, color='#990000', edgecolor=None, zorder=2)\n",
    "\n",
    "ax.yaxis.grid(True)\n",
    "ax.set_xticklabels(hour.index, rotation=0)\n",
    "\n",
    "#ax.set_ylim((0, 2000))\n",
    "ax.set_title('Tracks played by the hour of day')\n",
    "ax.set_xlabel('Hour of day')\n",
    "ax.set_ylabel('Number of plays')\n",
    "\n",
    "plt.show()"
   ]
  },
  {
   "cell_type": "markdown",
   "metadata": {},
   "source": [
    "Tracks listened by the day of the week"
   ]
  },
  {
   "cell_type": "code",
   "execution_count": null,
   "metadata": {},
   "outputs": [],
   "source": [
    "week_df = pd.DataFrame()\n",
    "dayOfWeek={0:'Mon', 1:'Tue', 2:'Wed', 3:'Thu', 4:'Fri', 5:'Sat', 6:'Sun'}\n",
    "\n",
    "week_df['int_day'] = scrobbles_df['datetime'].dt.dayofweek\n",
    "week_df = week_df.groupby(['int_day']).size().reset_index()\n",
    "week_df.rename(columns={0: 'frequency'}, inplace=True)\n",
    "week_df['day_name'] = week_df['int_day'].map(dayOfWeek)\n",
    "week_df.set_index(['day_name'], inplace=True)\n",
    "week_df.sort_values(\"int_day\",inplace=True, ascending=True)\n",
    "week_df.drop(['int_day'],axis=1,inplace=True)\n",
    "display(HTML(week_df.head(5).to_html()))"
   ]
  },
  {
   "cell_type": "code",
   "execution_count": null,
   "metadata": {},
   "outputs": [],
   "source": [
    "ax = week_df.plot(kind='bar', figsize=[14, 6], width=0.7, alpha=0.6, color='#990000', edgecolor=None, zorder=2)\n",
    "\n",
    "ax.yaxis.grid(True)\n",
    "ax.set_xticklabels(week_df.index, rotation=0)\n",
    "\n",
    "#ax.set_ylim((0, 2000))\n",
    "ax.set_title('Tracks played by the day of week')\n",
    "ax.set_xlabel('Day of week')\n",
    "ax.set_ylabel('Number of plays')\n",
    "\n",
    "plt.show()"
   ]
  },
  {
   "cell_type": "markdown",
   "metadata": {},
   "source": [
    "heatmap for daily activity"
   ]
  },
  {
   "cell_type": "code",
   "execution_count": null,
   "metadata": {},
   "outputs": [],
   "source": [
    "date = pd.DataFrame()\n",
    "date['date'] = pd.to_datetime(scrobbles_df['timestamp'].astype(int), unit='s').dt.date\n",
    "date['date'] = pd.to_datetime(date['date'])\n",
    "dateF = date.groupby('date').date.count()\n",
    "dateF=pd.Series(dateF)\n",
    "print(dateF.head(5))"
   ]
  },
  {
   "cell_type": "code",
   "execution_count": null,
   "metadata": {},
   "outputs": [],
   "source": [
    "plt.rcParams[\"figure.figsize\"]=14,6\n",
    "cm.calendarplot(dateF)"
   ]
  },
  {
   "cell_type": "markdown",
   "metadata": {},
   "source": [
    "### Total listening time"
   ]
  },
  {
   "cell_type": "code",
   "execution_count": null,
   "metadata": {},
   "outputs": [],
   "source": [
    "print(\"Mean tracks listened per day : \"+str(round(dateF.mean())))\n",
    "listeningTime_totalms = scrobbles_df['lengthMS'].sum()\n",
    "listeningTime_totals = str(round((listeningTime_totalms / 1000) % 60))\n",
    "listeningTime_totalmin = str(round(((listeningTime_totalms / (1000*60)) % 60)))\n",
    "listeningTime_totalhrs   = str(round((listeningTime_totalms / (1000*60*60)) % 24))\n",
    "listeningTime_totaldays = str(round((listeningTime_totalms / (1000*60*60*24))))\n",
    "\n",
    "print(listeningTime_totaldays+\" days\")\n",
    "print(listeningTime_totalhrs+\" hrs\")\n",
    "print(listeningTime_totalmin+\" mins\")"
   ]
  },
  {
   "cell_type": "markdown",
   "metadata": {},
   "source": [
    "#### Extracting data for billboard hot 100 playlist for use as a baseline of comparison"
   ]
  },
  {
   "cell_type": "code",
   "execution_count": null,
   "metadata": {},
   "outputs": [],
   "source": [
    "billboard_df = lf.get_playlist(user='billboard.com', playlist_id='6UeSakyzhiEt4NB3UAd6NQ')\n",
    "display(HTML(billboard_df.head(5).to_html()))"
   ]
  },
  {
   "cell_type": "code",
   "execution_count": null,
   "metadata": {},
   "outputs": [],
   "source": [
    "billboard_df.describe()"
   ]
  },
  {
   "cell_type": "markdown",
   "metadata": {},
   "source": [
    "genres in Billboard Hot 100"
   ]
  },
  {
   "cell_type": "code",
   "execution_count": null,
   "metadata": {},
   "outputs": [],
   "source": [
    "BBgenre_df = pd.DataFrame()\n",
    "BBgenre_df['genre'] = billboard_df['genre']\n",
    "BBgenre_df = billboard_df.groupby(['genre']).size().reset_index()\n",
    "BBgenre_df.rename(columns={0: 'frequency'}, inplace=True)\n",
    "BBgenre_df.set_index(['genre'], inplace=True)\n",
    "BBgenre_df.sort_values(\"frequency\",inplace=True, ascending=False)\n",
    "display(HTML(BBgenre_df.head(5).to_html()))"
   ]
  },
  {
   "cell_type": "code",
   "execution_count": null,
   "metadata": {},
   "outputs": [],
   "source": [
    "ax = BBgenre_df.plot(kind='bar', figsize=[20, 6], width=0.7, alpha=0.6, color='#1db954', edgecolor=None, zorder=2)\n",
    "\n",
    "ax.yaxis.grid(True)\n",
    "ax.set_xticklabels(BBgenre_df.index, rotation=45, rotation_mode='anchor', ha='right')\n",
    "ax.set_ylim((0, 20))\n",
    "ax.set_title('BillBoard Hot 100 Genres')\n",
    "ax.set_xlabel('Genres')\n",
    "ax.set_ylabel('Number of plays')\n",
    "\n",
    "plt.show()"
   ]
  },
  {
   "cell_type": "markdown",
   "metadata": {},
   "source": [
    "# The top 1%"
   ]
  },
  {
   "cell_type": "code",
   "execution_count": null,
   "metadata": {},
   "outputs": [],
   "source": [
    "def top (ser):\n",
    "    total=len(ser)\n",
    "    #print(total)\n",
    "    tp = int(round ((0.01*total)))\n",
    "    #print(tp)\n",
    "    res = ser.head(tp).sum()\n",
    "    return res\n",
    "def topPC(ser):\n",
    "    total=len(ser)\n",
    "    #print(total)\n",
    "    tp = int(round ((0.01*total)))\n",
    "    #print(tp)\n",
    "    res = ser.head(tp).sum()\n",
    "    pc=((res/len(scrobblesDF.index))*100)\n",
    "    return pc\n",
    "def onePC(df):\n",
    "    total=len(df.index)\n",
    "    tp = int(round((0.01*total)))\n",
    "    #print(tp)\n",
    "    return tp\n",
    "def AEP(ser):\n",
    "    #print(ser.head(50))\n",
    "    slope = (ser[0]-ser[49])/50\n",
    "    #print(slope)\n",
    "    avg = ser.head(50).mean()\n",
    "    #print(avg)\n",
    "    score = 5-(slope/avg)*25\n",
    "    return round(score,2)"
   ]
  },
  {
   "cell_type": "markdown",
   "metadata": {},
   "source": [
    "## AEP and Diversity\n",
    "\n",
    "### AEP\n",
    "> The AEP [Anti Exponential Points] is a number that is between -20 and 5 that shows how much preference a last.fm user has for his or her top artists or tracks. 5 is the max value for the AEP and it takes this value when the user has listened all the 50 top artists an equal number of times.\n",
    "\n",
    "### Diversity\n",
    "> Similar to AEP but for genres.\n",
    "\n",
    "#### AEP Formula\n",
    "\n",
    " > AEP = 5 - 25 * ( Slope / AverageTop50 )\n",
    "\n",
    " > Slope = (value of the first artist in the chart - value of the 50th artist in the chart) / 50\n",
    "\n",
    " > AverageTop50 = ( The sum of all values in the top 50 ) / 50"
   ]
  },
  {
   "cell_type": "code",
   "execution_count": null,
   "metadata": {},
   "outputs": [],
   "source": [
    "print(\"Diversity for genres \"+str(AEP(genre_df['frequency'])))\n",
    "print(\"AEP for artists \"+str(AEP(artist_df['frequency'])))\n",
    "print(\"AEP for tracks \"+str(AEP(track_df['frequency'])))"
   ]
  },
  {
   "cell_type": "markdown",
   "metadata": {},
   "source": [
    "show rows with no audio features"
   ]
  },
  {
   "cell_type": "code",
   "execution_count": null,
   "metadata": {},
   "outputs": [],
   "source": [
    "library_df[library_df['tempo'].isnull()]\n",
    "display(HTML(library_df.head(5).to_html()))"
   ]
  },
  {
   "cell_type": "raw",
   "metadata": {},
   "source": []
  },
  {
   "cell_type": "markdown",
   "metadata": {},
   "source": [
    "Dropping rows without audio features"
   ]
  },
  {
   "cell_type": "code",
   "execution_count": null,
   "metadata": {},
   "outputs": [],
   "source": [
    "library_df = library_df[pd.notnull(library_df['tempo'])]\n",
    "display(HTML(lf.unmapped_tracks(library_df).head(5).to_html()))"
   ]
  },
  {
   "cell_type": "markdown",
   "metadata": {},
   "source": [
    "## Audio feature analysis"
   ]
  },
  {
   "cell_type": "markdown",
   "metadata": {},
   "source": [
    "### Tempo\n",
    "\n",
    "> The overall estimated tempo of a track in beats per minute (BPM). In musical terminology, tempo is the speed or pace of a given piece and derives directly from the average beat duration."
   ]
  },
  {
   "cell_type": "code",
   "execution_count": null,
   "metadata": {},
   "outputs": [],
   "source": [
    "sns.distplot(library_df['tempo'].head(onePC(library_df)),label='top 1%',hist=True,bins=20,norm_hist=True)\n",
    "sns.distplot(library_df['tempo'],label='overall',hist=True,bins=20,norm_hist=True)\n",
    "sns.distplot(billboard_df['tempo'],label='mainstream',hist=True,bins=20,norm_hist=True)\n",
    "print(\"Mean tempo for top 1% of tracks \"+str(round(library_df['tempo'].head(onePC(library_df)).mean(),2)))\n",
    "print(\"Mean tempo for all listened tracks \"+str(round(library_df['tempo'].mean(),2)))\n",
    "print(\"Mean tempo for BillBoard Hot 100 tracks \"+str(round(billboard_df['tempo'].mean(),2)))\n",
    "plt.legend()"
   ]
  },
  {
   "cell_type": "markdown",
   "metadata": {},
   "source": [
    "### Energy\n",
    "\n",
    "> Energy is a measure from 0.0 to 1.0 and represents a perceptual measure of intensity and activity. Typically, energetic tracks feel fast, loud, and noisy. For example, death metal has high energy, while a Bach prelude scores low on the scale. Perceptual features contributing to this attribute include dynamic range, perceived loudness, timbre, onset rate, and general entropy."
   ]
  },
  {
   "cell_type": "code",
   "execution_count": null,
   "metadata": {},
   "outputs": [],
   "source": [
    "sns.distplot(library_df['energy'].head(onePC(library_df)),label='top 1%',hist=True,bins=20,norm_hist=True)\n",
    "sns.distplot(library_df['energy'],label='overall',hist=True,bins=20,norm_hist=True)\n",
    "sns.distplot(billboard_df['energy'],label='mainstream',hist=True,bins=20,norm_hist=True)\n",
    "print(\"Mean energy for top 1% of tracks \"+str(round(library_df['energy'].head(onePC(library_df)).mean(),2)))\n",
    "print(\"Mean energy for all listened tracks \"+str(round(library_df['energy'].mean(),2)))\n",
    "print(\"Mean energy for BillBoard Hot 100 tracks \"+str(round(billboard_df['energy'].mean(),2)))\n",
    "plt.legend()"
   ]
  },
  {
   "cell_type": "markdown",
   "metadata": {},
   "source": [
    "### Loudness\n",
    "\n",
    "> The overall loudness of a track in decibels (dB). Loudness values are averaged across the entire track and are useful for comparing relative loudness of tracks. Loudness is the quality of a sound that is the primary psychological correlate of physical strength (amplitude). Values typical range between -60 and 0 db."
   ]
  },
  {
   "cell_type": "code",
   "execution_count": null,
   "metadata": {},
   "outputs": [],
   "source": [
    "sns.distplot(library_df['loudness'].head(onePC(library_df)),label='top 1%',hist=True,bins=20,norm_hist=True)\n",
    "sns.distplot(library_df['loudness'],label='overall',hist=True,bins=20,norm_hist=True)\n",
    "sns.distplot(billboard_df['loudness'],label='mainstream',hist=True,bins=20,norm_hist=True)\n",
    "print(\"Mean loudness for top 1% of tracks \"+str(round(library_df['loudness'].head(onePC(library_df)).mean(),2)))\n",
    "print(\"Mean loudness for all listened tracks \"+str(round(library_df['loudness'].mean(),2)))\n",
    "print(\"Mean loudness for BillBoard Hot 100 tracks \"+str(round(billboard_df['loudness'].mean(),2)))\n",
    "plt.legend()"
   ]
  },
  {
   "cell_type": "markdown",
   "metadata": {},
   "source": [
    "### Valence\n",
    "\n",
    "> A measure from 0.0 to 1.0 describing the musical positiveness conveyed by a track. Tracks with high valence sound more positive (e.g. happy, cheerful, euphoric), while tracks with low valence sound more negative (e.g. sad, depressed, angry)."
   ]
  },
  {
   "cell_type": "code",
   "execution_count": null,
   "metadata": {},
   "outputs": [],
   "source": [
    "sns.distplot(library_df['valence'].head(onePC(library_df)),label='top 1%',hist=True,bins=20,norm_hist=True)\n",
    "sns.distplot(library_df['valence'],label='overall',hist=True,bins=20,norm_hist=True)\n",
    "sns.distplot(billboard_df['valence'],label='mainstream',hist=True,bins=20,norm_hist=True)\n",
    "print(\"Mean valence for top 1% of tracks \"+str(round(library_df['valence'].head(onePC(library_df)).mean(),2)))\n",
    "print(\"Mean valence for all listened tracks \"+str(round(library_df['valence'].mean(),2)))\n",
    "print(\"Mean valence for BillBoard Hot 100 tracks \"+str(round(billboard_df['valence'].mean(),2)))\n",
    "plt.legend()"
   ]
  },
  {
   "cell_type": "markdown",
   "metadata": {},
   "source": [
    "### Danceability\n",
    "\n",
    "> Danceability describes how suitable a track is for dancing based on a combination of musical elements including tempo, rhythm stability, beat strength, and overall regularity. A value of 0.0 is least danceable and 1.0 is most danceable. High values for danceability correspond to more \"repetitiveness\"\n",
    "in the song "
   ]
  },
  {
   "cell_type": "code",
   "execution_count": null,
   "metadata": {},
   "outputs": [],
   "source": [
    "sns.distplot(library_df['danceability'].head(onePC(library_df)),label='top 1%',hist=True,bins=20,norm_hist=True)\n",
    "sns.distplot(library_df['danceability'],label='overall',hist=True,bins=20,norm_hist=True)\n",
    "sns.distplot(billboard_df['danceability'],label='mainstream',hist=True,bins=20,norm_hist=True)\n",
    "print(\"Mean danceability for top 1% of tracks \"+str(round(library_df['danceability'].head(onePC(library_df)).mean(),2)))\n",
    "print(\"Mean danceability for all listened tracks \"+str(round(library_df['danceability'].mean(),2)))\n",
    "print(\"Mean danceability for BillBoard Hot 100 tracks \"+str(round(billboard_df['danceability'].mean(),2)))\n",
    "plt.legend()"
   ]
  },
  {
   "cell_type": "markdown",
   "metadata": {},
   "source": [
    "### Acousticness\n",
    "\n",
    "> A confidence measure from 0.0 to 1.0 of whether the track is acoustic. 1.0 represents high confidence the track is acoustic i.e absence of music produced through electric instruments (electic guitar, synthesizer etc.)"
   ]
  },
  {
   "cell_type": "code",
   "execution_count": null,
   "metadata": {},
   "outputs": [],
   "source": [
    "sns.distplot(library_df['acousticness'].head(onePC(library_df)),label='top 1%',hist=True,bins=20,norm_hist=True)\n",
    "sns.distplot(library_df['acousticness'],label='overall',hist=True,bins=20,norm_hist=True)\n",
    "sns.distplot(billboard_df['acousticness'],label='mainstream',hist=True,bins=20,norm_hist=True)\n",
    "print(\"Mean acousticness for top 1% of tracks \"+str(round(library_df['acousticness'].head(onePC(library_df)).mean(),2)))\n",
    "print(\"Mean acousticness for all listened tracks \"+str(round(library_df['acousticness'].mean(),2)))\n",
    "print(\"Mean acousticness for BillBoard Hot 100 tracks \"+str(round(billboard_df['acousticness'].mean(),2)))\n",
    "plt.legend()"
   ]
  },
  {
   "cell_type": "markdown",
   "metadata": {},
   "source": [
    "### Speechiness\n",
    "> \tSpeechiness detects the presence of spoken words in a track. The more exclusively speech-like the recording (e.g. talk show, audio book, poetry), the closer to 1.0 the attribute value. Values above 0.66 describe tracks that are probably made entirely of spoken words. Values between 0.33 and 0.66 describe tracks that may contain both music and speech, either in sections or layered, including such cases as rap music. Values below 0.33 most likely represent music and other non-speech-like tracks. The distribution of values for this feature look like this:"
   ]
  },
  {
   "cell_type": "code",
   "execution_count": null,
   "metadata": {},
   "outputs": [],
   "source": [
    "sns.distplot(library_df['speechiness'].head(onePC(library_df)),label='top 1%',hist=True,bins=20,norm_hist=True)\n",
    "sns.distplot(library_df['speechiness'],label='overall',hist=True,bins=20,norm_hist=True)\n",
    "sns.distplot(billboard_df['speechiness'],label='mainstream',hist=True,bins=20,norm_hist=True)\n",
    "print(\"Mean speechiness for top 1% of tracks \"+str(round(library_df['speechiness'].head(onePC(library_df)).mean(),2)))\n",
    "print(\"Mean speechiness for all listened tracks \"+str(round(library_df['speechiness'].mean(),2)))\n",
    "print(\"Mean speechiness for BillBoard Hot 100 tracks \"+str(round(billboard_df['speechiness'].mean(),2)))\n",
    "plt.legend()"
   ]
  },
  {
   "cell_type": "markdown",
   "metadata": {},
   "source": [
    "### Popularity\n",
    "\n",
    "> The popularity of the track. The value will be between 0 and 100, with 100 being the most popular.\n",
    "The popularity of a track is a value between 0 and 100, with 100 being the most popular. The popularity is calculated by algorithm and is based, in the most part, on the total number of plays the track has had and how recent those plays are.\n",
    "Generally speaking, songs that are being played a lot now will have a higher popularity than songs that were played a lot in the past."
   ]
  },
  {
   "cell_type": "code",
   "execution_count": null,
   "metadata": {},
   "outputs": [],
   "source": [
    "sns.distplot(library_df['popularity'].head(onePC(library_df)),label='top 1%',hist=True,bins=20,norm_hist=True)\n",
    "sns.distplot(library_df['popularity'],label='overall',hist=True,bins=20,norm_hist=True)\n",
    "sns.distplot(billboard_df['popularity'],label='mainstream',hist=True,bins=20,norm_hist=True)\n",
    "print(\"Mean popularity for top 1% of tracks \"+str(round(library_df['popularity'].head(onePC(library_df)).mean(),2)))\n",
    "print(\"Mean popularity for all listened tracks \"+str(round(library_df['popularity'].mean(),2)))\n",
    "print(\"Mean popularity for BillBoard Hot 100 tracks \"+str(round(billboard_df['popularity'].mean(),2)))\n",
    "plt.legend()"
   ]
  },
  {
   "cell_type": "markdown",
   "metadata": {},
   "source": [
    "## Box plots for library_df"
   ]
  },
  {
   "cell_type": "code",
   "execution_count": null,
   "metadata": {},
   "outputs": [],
   "source": [
    "f, ax = plt.subplots(3,2,figsize=(14,12))\n",
    "sns.boxplot(y=scrobbles_df['energy'],data=scrobbles_df,notch=True,color='#1db954',ax=ax[0][0])\n",
    "sns.boxplot(y=scrobbles_df['tempo'],data=scrobbles_df,notch=True,color='#1db954',ax=ax[1][0])\n",
    "sns.boxplot(y=scrobbles_df['valence'],data=scrobbles_df,notch=True,color='#1db954',ax=ax[2][0])\n",
    "sns.boxplot(y=scrobbles_df['loudness'],data=scrobbles_df,notch=True,color='#1db954',ax=ax[0][1])\n",
    "sns.boxplot(y=scrobbles_df['acousticness'],data=scrobbles_df,notch=True,color='#1db954',ax=ax[1][1])\n",
    "sns.boxplot(y=scrobbles_df['popularity'],data=scrobbles_df,notch=True,color='#1db954',ax=ax[2][1])\n"
   ]
  },
  {
   "cell_type": "markdown",
   "metadata": {},
   "source": [
    "## Listening trends "
   ]
  },
  {
   "cell_type": "markdown",
   "metadata": {},
   "source": [
    "Average audio features by the month"
   ]
  },
  {
   "cell_type": "code",
   "execution_count": null,
   "metadata": {},
   "outputs": [],
   "source": [
    "dayAvg = scrobbles_df.groupby(pd.to_datetime(scrobbles_df['datetime']).dt.date).mean().round(3)\n",
    "dayAvg.index = pd.to_datetime(dayAvg.index)\n",
    "dayAvg = dayAvg.resample('M').mean()\n",
    "dayAvg['date'] = dayAvg.index\n",
    "dayAvg.reset_index(drop=True,inplace=True)\n",
    "dayAvg.insert(0, 'datetime',dayAvg['date'])\n",
    "dayAvg.drop('date',axis=1,inplace=True)\n",
    "dayAvg['datetime'] = dayAvg['datetime'].dt.date\n",
    "display(HTML(dayAvg.head(10).to_html()))"
   ]
  },
  {
   "cell_type": "code",
   "execution_count": null,
   "metadata": {
    "scrolled": false
   },
   "outputs": [],
   "source": [
    "f, ax = plt.subplots(6,1,figsize=(17,30))\n",
    "#plt.subplots_adjust(top=2,bottom=1)\n",
    "plt.tight_layout(h_pad=5)\n",
    "for i in range(6):\n",
    "    ax[i].set_xticklabels(dayAvg.datetime,rotation=45, rotation_mode='anchor', ha='right')\n",
    "    ax[i].xaxis.grid(True)\n",
    "    ax[i].yaxis.grid(True)\n",
    "ax[0].set_ylim(0,250) #tempo\n",
    "ax[1].set_ylim(0,1.0) #energy   \n",
    "ax[2].set_ylim(-50,0) #loudness   \n",
    "ax[3].set_ylim(0,1.0) #valence   \n",
    "ax[4].set_ylim(0,1.0) #danceability   \n",
    "ax[5].set_ylim(0,100) #popularity   \n",
    "\n",
    "date_series = dayAvg.index\n",
    "sns.pointplot(x=dayAvg.datetime,y=dayAvg.tempo,data=dayAvg,color='#1db954',ax=ax[0])\n",
    "sns.pointplot(x=dayAvg.datetime,y=dayAvg.energy,data=dayAvg,color='#1db954',ax=ax[1])\n",
    "sns.pointplot(x=dayAvg.datetime,y=dayAvg.loudness,data=dayAvg,color='#1db954',ax=ax[2])\n",
    "sns.pointplot(x=dayAvg.datetime,y=dayAvg.valence,data=dayAvg,color='#1db954',ax=ax[3])\n",
    "sns.pointplot(x=dayAvg.datetime,y=dayAvg.danceability,data=dayAvg,color='#1db954',ax=ax[4])\n",
    "sns.pointplot(x=dayAvg.datetime,y=dayAvg.popularity,data=dayAvg,color='#1db954',ax=ax[5])"
   ]
  },
  {
   "cell_type": "code",
   "execution_count": null,
   "metadata": {},
   "outputs": [],
   "source": []
  }
 ],
 "metadata": {
  "colab": {
   "collapsed_sections": [],
   "name": "Untitled.ipynb",
   "provenance": [],
   "version": "0.3.2"
  },
  "kernelspec": {
   "display_name": "Python 3",
   "language": "python",
   "name": "python3"
  },
  "language_info": {
   "codemirror_mode": {
    "name": "ipython",
    "version": 3
   },
   "file_extension": ".py",
   "mimetype": "text/x-python",
   "name": "python",
   "nbconvert_exporter": "python",
   "pygments_lexer": "ipython3",
   "version": "3.6.4"
  },
  "pycharm": {
   "stem_cell": {
    "cell_type": "raw",
    "metadata": {
     "collapsed": false
    },
    "source": []
   }
  }
 },
 "nbformat": 4,
 "nbformat_minor": 1
}
