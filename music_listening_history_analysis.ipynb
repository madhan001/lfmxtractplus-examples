{
 "cells": [
  {
   "cell_type": "markdown",
   "metadata": {
    "colab_type": "text",
    "id": "pJupgNDem-NC"
   },
   "source": [
    "# Music listening history analysis"
   ]
  },
  {
   "cell_type": "markdown",
   "metadata": {
    "colab_type": "text",
    "id": "CTsjdJcjm-ND"
   },
   "source": [
    "Import required packages"
   ]
  },
  {
   "cell_type": "code",
   "execution_count": 44,
   "metadata": {
    "colab": {
     "base_uri": "https://localhost:8080/",
     "height": 790
    },
    "colab_type": "code",
    "id": "rpchWmygm-NE",
    "outputId": "26b82190-9a35-4308-b20b-c7e234e93b4c"
   },
   "outputs": [],
   "source": [
    "import lfmxtractplus.export_data as lf\n",
    "import pandas as pd\n",
    "import matplotlib.pyplot as plt\n",
    "import datetime as dt\n",
    "import seaborn as sns\n",
    "import calmap as cm\n",
    "from IPython.display import display, HTML\n",
    "\n",
    "%matplotlib inline\n"
   ]
  },
  {
   "cell_type": "markdown",
   "metadata": {
    "colab_type": "text",
    "id": "OH5jyEQ9m-NG"
   },
   "source": [
    "initialize lfmxtractplus with config.yaml"
   ]
  },
  {
   "cell_type": "code",
   "execution_count": 45,
   "metadata": {
    "colab": {
     "base_uri": "https://localhost:8080/",
     "height": 70
    },
    "colab_type": "code",
    "id": "ca70mpdHm-NH",
    "outputId": "6c79be89-da10-44ef-be0f-191b5cee5164",
    "scrolled": true
   },
   "outputs": [
    {
     "name": "stdout",
     "output_type": "stream",
     "text": [
      "https://accounts.spotify.com/authorize?client_id=c6df0ec4beda4f589b5984801224bfd6&response_type=code&redirect_uri=https%3A%2F%2Fexample.com%2Fcallback%2F\n",
      "Paste the above link into your browser, then paste the redirect url here: https://example.com/callback/?code=AQDsjfl_8_BffkGjFSzik60xZxVJsbmmOm8dM5n83K1w32-YfOkaBiQCT990oxb5o9liyJlB0JnAda8gCbJtzQH-grCADWy-zdFIGtkr-zOza3HD5uGyHOdu_A4hisfNsTUvQvxLY5mbnmGmvti94IO4T90fa_NNm2OgXu9164fIug_50JZsLxBIUJ18MXZqbGnrVUk\n"
     ]
    }
   ],
   "source": [
    "lf.initialize('C:\\\\Users\\Madhan\\PycharmProjects\\lfm4pandas\\config.yaml')"
   ]
  },
  {
   "cell_type": "markdown",
   "metadata": {
    "colab_type": "text",
    "id": "c9NhqZN6m-NK"
   },
   "source": [
    "Get listening history from last.fm and enrich with spotify audio features"
   ]
  },
  {
   "cell_type": "code",
   "execution_count": 46,
   "metadata": {
    "colab": {
     "base_uri": "https://localhost:8080/",
     "height": 252
    },
    "colab_type": "code",
    "id": "LYtw-ESLm-NK",
    "outputId": "608960f2-4669-4b73-fca8-4e31f835d038",
    "scrolled": true
   },
   "outputs": [
    {
     "name": "stdout",
     "output_type": "stream",
     "text": [
      "\n",
      "Fetching data from last.fm for user madhan_001\n",
      "\n",
      "15930 total tracks scrobbled by the user\n",
      "\n",
      "10 total pages to retrieve\n"
     ]
    },
    {
     "name": "stderr",
     "output_type": "stream",
     "text": [
      "100%|██████████████████████████████████████████████████████████████████████████████████| 10/10 [00:33<00:00,  3.35s/it]\n"
     ]
    },
    {
     "name": "stdout",
     "output_type": "stream",
     "text": [
      "\n",
      "\n",
      "Fetching SpotifyID for tracks\n"
     ]
    },
    {
     "name": "stderr",
     "output_type": "stream",
     "text": [
      "100%|████████████████████████████████████████████████████████████████████████████████| 441/441 [01:57<00:00,  3.61it/s]\n"
     ]
    },
    {
     "name": "stdout",
     "output_type": "stream",
     "text": [
      "\n",
      "tracks without spotifyID : 4\n",
      "\n",
      "Fetching audio features for tracks\n"
     ]
    },
    {
     "name": "stderr",
     "output_type": "stream",
     "text": [
      "100%|████████████████████████████████████████████████████████████████████████████████| 441/441 [00:53<00:00,  8.36it/s]\n"
     ]
    },
    {
     "name": "stdout",
     "output_type": "stream",
     "text": [
      "tracks without audio features : 4\n"
     ]
    }
   ],
   "source": [
    "scrobbles_dict = lf.generate_dataset(lfusername='madhan_001', pages=10)\n",
    "scrobbles_df = scrobbles_dict['complete']"
   ]
  },
  {
   "cell_type": "markdown",
   "metadata": {
    "colab_type": "text",
    "id": "gXEL63f3m-NN"
   },
   "source": [
    "Display extracted data"
   ]
  },
  {
   "cell_type": "code",
   "execution_count": 47,
   "metadata": {
    "colab": {
     "base_uri": "https://localhost:8080/",
     "height": 501
    },
    "colab_type": "code",
    "id": "E0FTbZ97m-NO",
    "outputId": "f1bcac6d-0c65-4395-cf8e-b8232f29d386",
    "scrolled": false
   },
   "outputs": [
    {
     "name": "stdout",
     "output_type": "stream",
     "text": [
      "Plays by timestamp\n"
     ]
    },
    {
     "data": {
      "text/html": [
       "<table border=\"1\" class=\"dataframe\">\n",
       "  <thead>\n",
       "    <tr style=\"text-align: right;\">\n",
       "      <th></th>\n",
       "      <th>timestamp</th>\n",
       "      <th>datetime</th>\n",
       "      <th>artist_name</th>\n",
       "      <th>artist_mbid</th>\n",
       "      <th>album_name</th>\n",
       "      <th>album_mbid</th>\n",
       "      <th>track_name</th>\n",
       "      <th>track_mbid</th>\n",
       "      <th>frequency</th>\n",
       "      <th>trackID</th>\n",
       "      <th>lengthMS</th>\n",
       "      <th>popularity</th>\n",
       "      <th>genre_name</th>\n",
       "      <th>danceability</th>\n",
       "      <th>energy</th>\n",
       "      <th>key</th>\n",
       "      <th>loudness</th>\n",
       "      <th>mode</th>\n",
       "      <th>speechiness</th>\n",
       "      <th>acousticness</th>\n",
       "      <th>liveness</th>\n",
       "      <th>instrumentalness</th>\n",
       "      <th>valence</th>\n",
       "      <th>tempo</th>\n",
       "    </tr>\n",
       "  </thead>\n",
       "  <tbody>\n",
       "    <tr>\n",
       "      <th>0</th>\n",
       "      <td>1562584002</td>\n",
       "      <td>2019-07-08 16:36:42+05:30</td>\n",
       "      <td>MISSIO</td>\n",
       "      <td>ae5af627-ccd6-4db5-974d-83da8e32e705</td>\n",
       "      <td>Rad Drugz</td>\n",
       "      <td></td>\n",
       "      <td>Rad Drugz</td>\n",
       "      <td>3c897bb5-8f82-4be9-a6e8-d91afa336f7f</td>\n",
       "      <td>16</td>\n",
       "      <td>0u2A867SnSHy7JOmQtNA3x</td>\n",
       "      <td>229648.0</td>\n",
       "      <td>48.0</td>\n",
       "      <td>indie poptimism</td>\n",
       "      <td>0.612</td>\n",
       "      <td>0.886</td>\n",
       "      <td>7.0</td>\n",
       "      <td>-5.078</td>\n",
       "      <td>1.0</td>\n",
       "      <td>0.0325</td>\n",
       "      <td>0.019700</td>\n",
       "      <td>0.0824</td>\n",
       "      <td>0.000003</td>\n",
       "      <td>0.579</td>\n",
       "      <td>109.025</td>\n",
       "    </tr>\n",
       "    <tr>\n",
       "      <th>1</th>\n",
       "      <td>1562583773</td>\n",
       "      <td>2019-07-08 16:32:53+05:30</td>\n",
       "      <td>MISSIO</td>\n",
       "      <td>ae5af627-ccd6-4db5-974d-83da8e32e705</td>\n",
       "      <td>The Darker the Weather // The Better the Man</td>\n",
       "      <td></td>\n",
       "      <td>I See You</td>\n",
       "      <td>a3f4279f-ef61-421d-8a88-6596241fab1b</td>\n",
       "      <td>5</td>\n",
       "      <td>3EqHFfCSbX4Z1pX8JQ0c0r</td>\n",
       "      <td>228735.0</td>\n",
       "      <td>63.0</td>\n",
       "      <td>indie poptimism</td>\n",
       "      <td>0.461</td>\n",
       "      <td>0.766</td>\n",
       "      <td>1.0</td>\n",
       "      <td>-6.875</td>\n",
       "      <td>1.0</td>\n",
       "      <td>0.0566</td>\n",
       "      <td>0.000484</td>\n",
       "      <td>0.0884</td>\n",
       "      <td>0.000057</td>\n",
       "      <td>0.399</td>\n",
       "      <td>169.957</td>\n",
       "    </tr>\n",
       "    <tr>\n",
       "      <th>2</th>\n",
       "      <td>1562583545</td>\n",
       "      <td>2019-07-08 16:29:05+05:30</td>\n",
       "      <td>MISSIO</td>\n",
       "      <td>ae5af627-ccd6-4db5-974d-83da8e32e705</td>\n",
       "      <td>Rad Drugz</td>\n",
       "      <td></td>\n",
       "      <td>Rad Drugz</td>\n",
       "      <td>3c897bb5-8f82-4be9-a6e8-d91afa336f7f</td>\n",
       "      <td>16</td>\n",
       "      <td>0u2A867SnSHy7JOmQtNA3x</td>\n",
       "      <td>229648.0</td>\n",
       "      <td>48.0</td>\n",
       "      <td>indie poptimism</td>\n",
       "      <td>0.612</td>\n",
       "      <td>0.886</td>\n",
       "      <td>7.0</td>\n",
       "      <td>-5.078</td>\n",
       "      <td>1.0</td>\n",
       "      <td>0.0325</td>\n",
       "      <td>0.019700</td>\n",
       "      <td>0.0824</td>\n",
       "      <td>0.000003</td>\n",
       "      <td>0.579</td>\n",
       "      <td>109.025</td>\n",
       "    </tr>\n",
       "    <tr>\n",
       "      <th>3</th>\n",
       "      <td>1562583284</td>\n",
       "      <td>2019-07-08 16:24:44+05:30</td>\n",
       "      <td>All Time Low</td>\n",
       "      <td>62162215-b023-4f0e-84bd-1e9412d5b32c</td>\n",
       "      <td>Future Hearts</td>\n",
       "      <td>0573c7a9-c6bc-48dd-9939-673a64c8dd96</td>\n",
       "      <td>Something's Gotta Give</td>\n",
       "      <td>0f3538e0-2d8c-4d8b-9541-c6ccfa586db9</td>\n",
       "      <td>29</td>\n",
       "      <td>6OPoF9qiuV2dNfJ44w3X4M</td>\n",
       "      <td>189418.0</td>\n",
       "      <td>57.0</td>\n",
       "      <td>neon pop punk</td>\n",
       "      <td>0.496</td>\n",
       "      <td>0.913</td>\n",
       "      <td>4.0</td>\n",
       "      <td>-3.286</td>\n",
       "      <td>1.0</td>\n",
       "      <td>0.0448</td>\n",
       "      <td>0.010100</td>\n",
       "      <td>0.1180</td>\n",
       "      <td>0.000000</td>\n",
       "      <td>0.675</td>\n",
       "      <td>165.981</td>\n",
       "    </tr>\n",
       "    <tr>\n",
       "      <th>4</th>\n",
       "      <td>1562583101</td>\n",
       "      <td>2019-07-08 16:21:41+05:30</td>\n",
       "      <td>MØ</td>\n",
       "      <td>3ab2ee23-1c2f-458c-9c8c-ca4844729120</td>\n",
       "      <td>Blur (feat. Foster The People)</td>\n",
       "      <td></td>\n",
       "      <td>Blur (Feat. Foster The People)</td>\n",
       "      <td></td>\n",
       "      <td>22</td>\n",
       "      <td>653SgdD6rQ9YPtsqRgQVzm</td>\n",
       "      <td>181961.0</td>\n",
       "      <td>63.0</td>\n",
       "      <td>dance pop</td>\n",
       "      <td>0.616</td>\n",
       "      <td>0.809</td>\n",
       "      <td>1.0</td>\n",
       "      <td>-4.775</td>\n",
       "      <td>0.0</td>\n",
       "      <td>0.0330</td>\n",
       "      <td>0.014800</td>\n",
       "      <td>0.7180</td>\n",
       "      <td>0.000000</td>\n",
       "      <td>0.468</td>\n",
       "      <td>140.007</td>\n",
       "    </tr>\n",
       "  </tbody>\n",
       "</table>"
      ],
      "text/plain": [
       "<IPython.core.display.HTML object>"
      ]
     },
     "metadata": {},
     "output_type": "display_data"
    }
   ],
   "source": [
    "print(\"Plays by timestamp\")\n",
    "display(HTML(scrobbles_df.head(5).to_html()))"
   ]
  },
  {
   "cell_type": "code",
   "execution_count": 48,
   "metadata": {
    "colab": {
     "base_uri": "https://localhost:8080/",
     "height": 299
    },
    "colab_type": "code",
    "id": "f9J0ZuRfm-NQ",
    "outputId": "fd8094e1-4b0f-40fb-9f8a-e630d3b45fec"
   },
   "outputs": [
    {
     "data": {
      "text/html": [
       "<table border=\"1\" class=\"dataframe\">\n",
       "  <thead>\n",
       "    <tr style=\"text-align: right;\">\n",
       "      <th></th>\n",
       "      <th>artist_name</th>\n",
       "      <th>track_name</th>\n",
       "      <th>frequency</th>\n",
       "      <th>trackID</th>\n",
       "      <th>lengthMS</th>\n",
       "      <th>popularity</th>\n",
       "      <th>genre_name</th>\n",
       "      <th>danceability</th>\n",
       "      <th>energy</th>\n",
       "      <th>key</th>\n",
       "      <th>loudness</th>\n",
       "      <th>mode</th>\n",
       "      <th>speechiness</th>\n",
       "      <th>acousticness</th>\n",
       "      <th>liveness</th>\n",
       "      <th>instrumentalness</th>\n",
       "      <th>valence</th>\n",
       "      <th>tempo</th>\n",
       "    </tr>\n",
       "  </thead>\n",
       "  <tbody>\n",
       "    <tr>\n",
       "      <th>0</th>\n",
       "      <td>5 Seconds of Summer</td>\n",
       "      <td>Youngblood</td>\n",
       "      <td>1</td>\n",
       "      <td>2iUXsYOEPhVqEBwsqP70rE</td>\n",
       "      <td>203417.0</td>\n",
       "      <td>84.0</td>\n",
       "      <td>boy band</td>\n",
       "      <td>0.596</td>\n",
       "      <td>0.854</td>\n",
       "      <td>7.0</td>\n",
       "      <td>-5.114</td>\n",
       "      <td>0.0</td>\n",
       "      <td>0.4630</td>\n",
       "      <td>0.016900</td>\n",
       "      <td>0.124</td>\n",
       "      <td>0.000000</td>\n",
       "      <td>0.152</td>\n",
       "      <td>120.274</td>\n",
       "    </tr>\n",
       "    <tr>\n",
       "      <th>1</th>\n",
       "      <td>AFI</td>\n",
       "      <td>Miss Murder</td>\n",
       "      <td>3</td>\n",
       "      <td>0Ti2dlF2xLjXblvdU5fCxM</td>\n",
       "      <td>206586.0</td>\n",
       "      <td>69.0</td>\n",
       "      <td>alternative metal</td>\n",
       "      <td>0.309</td>\n",
       "      <td>0.875</td>\n",
       "      <td>1.0</td>\n",
       "      <td>-4.490</td>\n",
       "      <td>1.0</td>\n",
       "      <td>0.0488</td>\n",
       "      <td>0.000213</td>\n",
       "      <td>0.113</td>\n",
       "      <td>0.001680</td>\n",
       "      <td>0.725</td>\n",
       "      <td>143.526</td>\n",
       "    </tr>\n",
       "    <tr>\n",
       "      <th>2</th>\n",
       "      <td>ASIAN KUNG-FU GENERATION</td>\n",
       "      <td>Re: Re:</td>\n",
       "      <td>1</td>\n",
       "      <td>7gehOKSGfZgjIJSxiyE8oD</td>\n",
       "      <td>332240.0</td>\n",
       "      <td>52.0</td>\n",
       "      <td>anime</td>\n",
       "      <td>0.464</td>\n",
       "      <td>0.869</td>\n",
       "      <td>6.0</td>\n",
       "      <td>-5.050</td>\n",
       "      <td>0.0</td>\n",
       "      <td>0.0502</td>\n",
       "      <td>0.000254</td>\n",
       "      <td>0.248</td>\n",
       "      <td>0.000403</td>\n",
       "      <td>0.506</td>\n",
       "      <td>155.009</td>\n",
       "    </tr>\n",
       "    <tr>\n",
       "      <th>3</th>\n",
       "      <td>Aaron Smith</td>\n",
       "      <td>Dancin (feat. Luvli) - Krono Remix</td>\n",
       "      <td>5</td>\n",
       "      <td>6WkJ2OK163XXS2oARUC9JM</td>\n",
       "      <td>198053.0</td>\n",
       "      <td>84.0</td>\n",
       "      <td>chicago house</td>\n",
       "      <td>0.720</td>\n",
       "      <td>0.741</td>\n",
       "      <td>10.0</td>\n",
       "      <td>-6.529</td>\n",
       "      <td>0.0</td>\n",
       "      <td>0.0287</td>\n",
       "      <td>0.101000</td>\n",
       "      <td>0.289</td>\n",
       "      <td>0.000014</td>\n",
       "      <td>0.357</td>\n",
       "      <td>119.896</td>\n",
       "    </tr>\n",
       "    <tr>\n",
       "      <th>4</th>\n",
       "      <td>Airways</td>\n",
       "      <td>Trampoline</td>\n",
       "      <td>1</td>\n",
       "      <td>7L3JHmRhM4kJLeYdKerxBD</td>\n",
       "      <td>183013.0</td>\n",
       "      <td>39.0</td>\n",
       "      <td>modern alternative rock</td>\n",
       "      <td>0.697</td>\n",
       "      <td>0.692</td>\n",
       "      <td>11.0</td>\n",
       "      <td>-6.011</td>\n",
       "      <td>0.0</td>\n",
       "      <td>0.1470</td>\n",
       "      <td>0.086200</td>\n",
       "      <td>0.317</td>\n",
       "      <td>0.004620</td>\n",
       "      <td>0.844</td>\n",
       "      <td>89.841</td>\n",
       "    </tr>\n",
       "  </tbody>\n",
       "</table>"
      ],
      "text/plain": [
       "<IPython.core.display.HTML object>"
      ]
     },
     "metadata": {},
     "output_type": "display_data"
    }
   ],
   "source": [
    "library_df = scrobbles_dict['library']\n",
    "display(HTML(library_df.head(5).to_html()))\n"
   ]
  },
  {
   "cell_type": "markdown",
   "metadata": {
    "colab": {},
    "colab_type": "code",
    "id": "eXvxSSstm-NZ"
   },
   "source": [
    "Unmapped tracks"
   ]
  },
  {
   "cell_type": "code",
   "execution_count": 49,
   "metadata": {
    "colab": {
     "base_uri": "https://localhost:8080/",
     "height": 1000
    },
    "colab_type": "code",
    "id": "iYTj-E_qm-NS",
    "outputId": "c807e423-1de2-4ca1-8350-2109b1dafa9d",
    "pycharm": {
     "is_executing": false
    },
    "scrolled": true
   },
   "outputs": [
    {
     "data": {
      "text/html": [
       "<table border=\"1\" class=\"dataframe\">\n",
       "  <thead>\n",
       "    <tr style=\"text-align: right;\">\n",
       "      <th></th>\n",
       "      <th>artist_name</th>\n",
       "      <th>track_name</th>\n",
       "      <th>frequency</th>\n",
       "      <th>trackID</th>\n",
       "      <th>lengthMS</th>\n",
       "      <th>popularity</th>\n",
       "      <th>genre_name</th>\n",
       "      <th>danceability</th>\n",
       "      <th>energy</th>\n",
       "      <th>key</th>\n",
       "      <th>loudness</th>\n",
       "      <th>mode</th>\n",
       "      <th>speechiness</th>\n",
       "      <th>acousticness</th>\n",
       "      <th>liveness</th>\n",
       "      <th>instrumentalness</th>\n",
       "      <th>valence</th>\n",
       "      <th>tempo</th>\n",
       "    </tr>\n",
       "  </thead>\n",
       "  <tbody>\n",
       "    <tr>\n",
       "      <th>192</th>\n",
       "      <td>Ke$ha</td>\n",
       "      <td>Animal</td>\n",
       "      <td>1</td>\n",
       "      <td>NaN</td>\n",
       "      <td>NaN</td>\n",
       "      <td>NaN</td>\n",
       "      <td>NaN</td>\n",
       "      <td>NaN</td>\n",
       "      <td>NaN</td>\n",
       "      <td>NaN</td>\n",
       "      <td>NaN</td>\n",
       "      <td>NaN</td>\n",
       "      <td>NaN</td>\n",
       "      <td>NaN</td>\n",
       "      <td>NaN</td>\n",
       "      <td>NaN</td>\n",
       "      <td>NaN</td>\n",
       "      <td>NaN</td>\n",
       "    </tr>\n",
       "    <tr>\n",
       "      <th>193</th>\n",
       "      <td>Ke$ha</td>\n",
       "      <td>TiK ToK</td>\n",
       "      <td>1</td>\n",
       "      <td>NaN</td>\n",
       "      <td>NaN</td>\n",
       "      <td>NaN</td>\n",
       "      <td>NaN</td>\n",
       "      <td>NaN</td>\n",
       "      <td>NaN</td>\n",
       "      <td>NaN</td>\n",
       "      <td>NaN</td>\n",
       "      <td>NaN</td>\n",
       "      <td>NaN</td>\n",
       "      <td>NaN</td>\n",
       "      <td>NaN</td>\n",
       "      <td>NaN</td>\n",
       "      <td>NaN</td>\n",
       "      <td>NaN</td>\n",
       "    </tr>\n",
       "    <tr>\n",
       "      <th>245</th>\n",
       "      <td>Motörhead</td>\n",
       "      <td>Ace Of Spades - Live From United Kingdom / 1981</td>\n",
       "      <td>3</td>\n",
       "      <td>NaN</td>\n",
       "      <td>NaN</td>\n",
       "      <td>NaN</td>\n",
       "      <td>NaN</td>\n",
       "      <td>NaN</td>\n",
       "      <td>NaN</td>\n",
       "      <td>NaN</td>\n",
       "      <td>NaN</td>\n",
       "      <td>NaN</td>\n",
       "      <td>NaN</td>\n",
       "      <td>NaN</td>\n",
       "      <td>NaN</td>\n",
       "      <td>NaN</td>\n",
       "      <td>NaN</td>\n",
       "      <td>NaN</td>\n",
       "    </tr>\n",
       "    <tr>\n",
       "      <th>349</th>\n",
       "      <td>Silent Siren</td>\n",
       "      <td>恋い雪</td>\n",
       "      <td>1</td>\n",
       "      <td>NaN</td>\n",
       "      <td>NaN</td>\n",
       "      <td>NaN</td>\n",
       "      <td>NaN</td>\n",
       "      <td>NaN</td>\n",
       "      <td>NaN</td>\n",
       "      <td>NaN</td>\n",
       "      <td>NaN</td>\n",
       "      <td>NaN</td>\n",
       "      <td>NaN</td>\n",
       "      <td>NaN</td>\n",
       "      <td>NaN</td>\n",
       "      <td>NaN</td>\n",
       "      <td>NaN</td>\n",
       "      <td>NaN</td>\n",
       "    </tr>\n",
       "  </tbody>\n",
       "</table>"
      ],
      "text/plain": [
       "<IPython.core.display.HTML object>"
      ]
     },
     "metadata": {},
     "output_type": "display_data"
    }
   ],
   "source": [
    "unmapped_track_df = lf.unmapped_tracks(library_df)\n",
    "display(HTML(unmapped_track_df.to_html()))\n",
    "#unmapped_track_df.to_csv(\"unmappable.tsv\", sep='\\t')"
   ]
  },
  {
   "cell_type": "markdown",
   "metadata": {
    "colab": {},
    "colab_type": "code",
    "id": "dwTGSFpzm-Nb"
   },
   "source": [
    "Dropping rows with unmapped tracks from scrobbles_df"
   ]
  },
  {
   "cell_type": "code",
   "execution_count": 50,
   "metadata": {},
   "outputs": [
    {
     "data": {
      "text/html": [
       "<table border=\"1\" class=\"dataframe\">\n",
       "  <thead>\n",
       "    <tr style=\"text-align: right;\">\n",
       "      <th></th>\n",
       "      <th>timestamp</th>\n",
       "      <th>datetime</th>\n",
       "      <th>artist_name</th>\n",
       "      <th>artist_mbid</th>\n",
       "      <th>album_name</th>\n",
       "      <th>album_mbid</th>\n",
       "      <th>track_name</th>\n",
       "      <th>track_mbid</th>\n",
       "      <th>frequency</th>\n",
       "      <th>trackID</th>\n",
       "      <th>lengthMS</th>\n",
       "      <th>popularity</th>\n",
       "      <th>genre_name</th>\n",
       "      <th>danceability</th>\n",
       "      <th>energy</th>\n",
       "      <th>key</th>\n",
       "      <th>loudness</th>\n",
       "      <th>mode</th>\n",
       "      <th>speechiness</th>\n",
       "      <th>acousticness</th>\n",
       "      <th>liveness</th>\n",
       "      <th>instrumentalness</th>\n",
       "      <th>valence</th>\n",
       "      <th>tempo</th>\n",
       "    </tr>\n",
       "  </thead>\n",
       "  <tbody>\n",
       "  </tbody>\n",
       "</table>"
      ],
      "text/plain": [
       "<IPython.core.display.HTML object>"
      ]
     },
     "metadata": {},
     "output_type": "display_data"
    }
   ],
   "source": [
    "scrobbles_df = scrobbles_df[pd.notnull(scrobbles_df['trackID'])]\n",
    "display(HTML(lf.unmapped_tracks(scrobbles_df).head(5).to_html()))"
   ]
  },
  {
   "cell_type": "markdown",
   "metadata": {},
   "source": [
    "Dropping rows with unmapped tracks from library_df"
   ]
  },
  {
   "cell_type": "code",
   "execution_count": 51,
   "metadata": {},
   "outputs": [
    {
     "data": {
      "text/html": [
       "<table border=\"1\" class=\"dataframe\">\n",
       "  <thead>\n",
       "    <tr style=\"text-align: right;\">\n",
       "      <th></th>\n",
       "      <th>artist_name</th>\n",
       "      <th>track_name</th>\n",
       "      <th>frequency</th>\n",
       "      <th>trackID</th>\n",
       "      <th>lengthMS</th>\n",
       "      <th>popularity</th>\n",
       "      <th>genre_name</th>\n",
       "      <th>danceability</th>\n",
       "      <th>energy</th>\n",
       "      <th>key</th>\n",
       "      <th>loudness</th>\n",
       "      <th>mode</th>\n",
       "      <th>speechiness</th>\n",
       "      <th>acousticness</th>\n",
       "      <th>liveness</th>\n",
       "      <th>instrumentalness</th>\n",
       "      <th>valence</th>\n",
       "      <th>tempo</th>\n",
       "    </tr>\n",
       "  </thead>\n",
       "  <tbody>\n",
       "  </tbody>\n",
       "</table>"
      ],
      "text/plain": [
       "<IPython.core.display.HTML object>"
      ]
     },
     "metadata": {},
     "output_type": "display_data"
    }
   ],
   "source": [
    "library_df = library_df[pd.notnull(library_df['trackID'])]\n",
    "display(HTML(lf.unmapped_tracks(library_df).head(5).to_html()))"
   ]
  },
  {
   "cell_type": "markdown",
   "metadata": {},
   "source": [
    "creating artist_df to get number of plays from each artist"
   ]
  },
  {
   "cell_type": "code",
   "execution_count": 52,
   "metadata": {},
   "outputs": [
    {
     "data": {
      "text/html": [
       "<table border=\"1\" class=\"dataframe\">\n",
       "  <thead>\n",
       "    <tr style=\"text-align: right;\">\n",
       "      <th></th>\n",
       "      <th>frequency</th>\n",
       "    </tr>\n",
       "    <tr>\n",
       "      <th>artist_name</th>\n",
       "      <th></th>\n",
       "    </tr>\n",
       "  </thead>\n",
       "  <tbody>\n",
       "    <tr>\n",
       "      <th>Grimes</th>\n",
       "      <td>188</td>\n",
       "    </tr>\n",
       "    <tr>\n",
       "      <th>Mötley Crüe</th>\n",
       "      <td>124</td>\n",
       "    </tr>\n",
       "    <tr>\n",
       "      <th>Megadeth</th>\n",
       "      <td>122</td>\n",
       "    </tr>\n",
       "    <tr>\n",
       "      <th>Billie Eilish</th>\n",
       "      <td>83</td>\n",
       "    </tr>\n",
       "    <tr>\n",
       "      <th>Phoebe Ryan</th>\n",
       "      <td>58</td>\n",
       "    </tr>\n",
       "  </tbody>\n",
       "</table>"
      ],
      "text/plain": [
       "<IPython.core.display.HTML object>"
      ]
     },
     "metadata": {},
     "output_type": "display_data"
    }
   ],
   "source": [
    "artist_df = scrobbles_df.groupby(['artist_name']).size().reset_index()\n",
    "artist_df.rename(columns={0: 'frequency'}, inplace=True)\n",
    "artist_df.set_index(['artist_name'], inplace=True)\n",
    "artist_df.sort_values(\"frequency\",inplace=True, ascending=False)\n",
    "display(HTML(artist_df.head(5).to_html()))"
   ]
  },
  {
   "cell_type": "markdown",
   "metadata": {},
   "source": [
    "plotting barplot for top 20 artists"
   ]
  },
  {
   "cell_type": "code",
   "execution_count": 53,
   "metadata": {},
   "outputs": [
    {
     "data": {
      "image/png": "[encoded data removed]",
      "text/plain": [
       "<matplotlib.figure.Figure at 0x1c183d534a8>"
      ]
     },
     "metadata": {},
     "output_type": "display_data"
    }
   ],
   "source": [
    "ax = artist_df.head(20).plot(kind='bar', figsize=[16, 7], width=0.8, alpha=0.7, color='#990000')\n",
    "ax.yaxis.grid(True)\n",
    "ax.set_xticklabels(artist_df.index,rotation=45, rotation_mode='anchor', ha='right')\n",
    "ax.set_title('Top 20 artists')\n",
    "ax.set_xlabel('',)\n",
    "ax.set_ylabel('Number of plays')\n",
    "\n",
    "plt.show()"
   ]
  },
  {
   "cell_type": "markdown",
   "metadata": {},
   "source": [
    "creating artist_df to get number of plays from each artist"
   ]
  },
  {
   "cell_type": "code",
   "execution_count": 54,
   "metadata": {},
   "outputs": [
    {
     "data": {
      "text/html": [
       "<table border=\"1\" class=\"dataframe\">\n",
       "  <thead>\n",
       "    <tr style=\"text-align: right;\">\n",
       "      <th></th>\n",
       "      <th>frequency</th>\n",
       "    </tr>\n",
       "    <tr>\n",
       "      <th>track_name</th>\n",
       "      <th></th>\n",
       "    </tr>\n",
       "  </thead>\n",
       "  <tbody>\n",
       "    <tr>\n",
       "      <th>Killing Is My Business...And Business Is Good! - Remastered 2018</th>\n",
       "      <td>60</td>\n",
       "    </tr>\n",
       "    <tr>\n",
       "      <th>The Dirt (Est. 1981) [feat. Machine Gun Kelly]</th>\n",
       "      <td>51</td>\n",
       "    </tr>\n",
       "    <tr>\n",
       "      <th>A Thousand Ways</th>\n",
       "      <td>48</td>\n",
       "    </tr>\n",
       "    <tr>\n",
       "      <th>SHC</th>\n",
       "      <td>47</td>\n",
       "    </tr>\n",
       "    <tr>\n",
       "      <th>False Confidence</th>\n",
       "      <td>45</td>\n",
       "    </tr>\n",
       "  </tbody>\n",
       "</table>"
      ],
      "text/plain": [
       "<IPython.core.display.HTML object>"
      ]
     },
     "metadata": {},
     "output_type": "display_data"
    }
   ],
   "source": [
    "track_df = scrobbles_df.groupby(['track_name']).size().reset_index()\n",
    "track_df.rename(columns={0: 'frequency'}, inplace=True)\n",
    "track_df.set_index(['track_name'], inplace=True)\n",
    "track_df.sort_values(\"frequency\",inplace=True, ascending=False)\n",
    "display(HTML(track_df.head(5).to_html()))"
   ]
  },
  {
   "cell_type": "markdown",
   "metadata": {},
   "source": [
    "plotting barplot for top 20 tracks"
   ]
  },
  {
   "cell_type": "code",
   "execution_count": 55,
   "metadata": {},
   "outputs": [
    {
     "data": {
      "image/png": "[encoded data removed]",
      "text/plain": [
       "<matplotlib.figure.Figure at 0x1c181a675c0>"
      ]
     },
     "metadata": {},
     "output_type": "display_data"
    }
   ],
   "source": [
    "ax = track_df.head(20).plot(kind='bar', figsize=[16, 7], width=0.8, alpha=0.7, color='#990000')\n",
    "ax.yaxis.grid(True)\n",
    "ax.set_xticklabels(track_df.index,rotation=55, rotation_mode='anchor', ha='right')\n",
    "ax.set_title('Top 20 tracks')\n",
    "ax.set_xlabel('',)\n",
    "ax.set_ylabel('Number of plays')\n",
    "\n",
    "plt.show()"
   ]
  },
  {
   "cell_type": "markdown",
   "metadata": {},
   "source": [
    "creating album_df to get number of plays from each artist"
   ]
  },
  {
   "cell_type": "code",
   "execution_count": 56,
   "metadata": {},
   "outputs": [
    {
     "data": {
      "text/html": [
       "<table border=\"1\" class=\"dataframe\">\n",
       "  <thead>\n",
       "    <tr style=\"text-align: right;\">\n",
       "      <th></th>\n",
       "      <th>frequency</th>\n",
       "    </tr>\n",
       "    <tr>\n",
       "      <th>album_name</th>\n",
       "      <th></th>\n",
       "    </tr>\n",
       "  </thead>\n",
       "  <tbody>\n",
       "    <tr>\n",
       "      <th>Art Angels</th>\n",
       "      <td>157</td>\n",
       "    </tr>\n",
       "    <tr>\n",
       "      <th>Warheads on Foreheads</th>\n",
       "      <td>109</td>\n",
       "    </tr>\n",
       "    <tr>\n",
       "      <th>WHEN WE ALL FALL ASLEEP, WHERE DO WE GO?</th>\n",
       "      <td>81</td>\n",
       "    </tr>\n",
       "    <tr>\n",
       "      <th>The Dirt Soundtrack</th>\n",
       "      <td>58</td>\n",
       "    </tr>\n",
       "    <tr>\n",
       "      <th>Melodrama</th>\n",
       "      <td>50</td>\n",
       "    </tr>\n",
       "  </tbody>\n",
       "</table>"
      ],
      "text/plain": [
       "<IPython.core.display.HTML object>"
      ]
     },
     "metadata": {},
     "output_type": "display_data"
    }
   ],
   "source": [
    "album_df = scrobbles_df.groupby(['album_name']).size().reset_index()\n",
    "album_df.rename(columns={0: 'frequency'}, inplace=True)\n",
    "album_df.set_index(['album_name'], inplace=True)\n",
    "album_df.sort_values(\"frequency\",inplace=True, ascending=False)\n",
    "display(HTML(album_df.head(5).to_html()))"
   ]
  },
  {
   "cell_type": "code",
   "execution_count": 57,
   "metadata": {},
   "outputs": [
    {
     "data": {
      "image/png": "[encoded data removed]",
      "text/plain": [
       "<matplotlib.figure.Figure at 0x1c183d4b240>"
      ]
     },
     "metadata": {},
     "output_type": "display_data"
    }
   ],
   "source": [
    "ax = album_df.head(20).plot(kind='bar', figsize=[16, 7], width=0.8, alpha=0.7, color='#990000')\n",
    "ax.yaxis.grid(True)\n",
    "ax.set_xticklabels(album_df.index,rotation=55, rotation_mode='anchor', ha='right')\n",
    "ax.set_title('Top 20 albums')\n",
    "ax.set_xlabel('',)\n",
    "ax.set_ylabel('Number of plays')\n",
    "\n",
    "plt.show()"
   ]
  },
  {
   "cell_type": "markdown",
   "metadata": {},
   "source": [
    "creating genre_df to get number of plays from each artist"
   ]
  },
  {
   "cell_type": "code",
   "execution_count": 58,
   "metadata": {},
   "outputs": [
    {
     "data": {
      "text/html": [
       "<table border=\"1\" class=\"dataframe\">\n",
       "  <thead>\n",
       "    <tr style=\"text-align: right;\">\n",
       "      <th></th>\n",
       "      <th>frequency</th>\n",
       "    </tr>\n",
       "    <tr>\n",
       "      <th>genre_name</th>\n",
       "      <th></th>\n",
       "    </tr>\n",
       "  </thead>\n",
       "  <tbody>\n",
       "    <tr>\n",
       "      <th>art pop</th>\n",
       "      <td>242</td>\n",
       "    </tr>\n",
       "    <tr>\n",
       "      <th>album rock</th>\n",
       "      <td>197</td>\n",
       "    </tr>\n",
       "    <tr>\n",
       "      <th>dance pop</th>\n",
       "      <td>182</td>\n",
       "    </tr>\n",
       "    <tr>\n",
       "      <th>glam metal</th>\n",
       "      <td>124</td>\n",
       "    </tr>\n",
       "    <tr>\n",
       "      <th>electropop</th>\n",
       "      <td>105</td>\n",
       "    </tr>\n",
       "  </tbody>\n",
       "</table>"
      ],
      "text/plain": [
       "<IPython.core.display.HTML object>"
      ]
     },
     "metadata": {},
     "output_type": "display_data"
    }
   ],
   "source": [
    "genre_df = scrobbles_df.groupby(['genre_name']).size().reset_index()\n",
    "genre_df.rename(columns={0: 'frequency'}, inplace=True)\n",
    "genre_df.set_index(['genre_name'], inplace=True)\n",
    "genre_df.sort_values(\"frequency\",inplace=True, ascending=False)\n",
    "display(HTML(genre_df.head(5).to_html()))"
   ]
  },
  {
   "cell_type": "code",
   "execution_count": 59,
   "metadata": {},
   "outputs": [
    {
     "data": {
      "image/png": "[encoded data removed]",
      "text/plain": [
       "<matplotlib.figure.Figure at 0x1c184e2d550>"
      ]
     },
     "metadata": {},
     "output_type": "display_data"
    }
   ],
   "source": [
    "ax = genre_df.head(20).plot(kind='bar', figsize=[16, 7], width=0.8, alpha=0.7, color='#1db954')\n",
    "ax.yaxis.grid(True)\n",
    "ax.set_xticklabels(genre_df.index,rotation=55, rotation_mode='anchor', ha='right')\n",
    "ax.set_title('Top 20 genres')\n",
    "ax.set_xlabel('',)\n",
    "ax.set_ylabel('Number of plays')\n",
    "\n",
    "plt.show()"
   ]
  },
  {
   "cell_type": "markdown",
   "metadata": {},
   "source": [
    "#### Listening habits"
   ]
  },
  {
   "cell_type": "markdown",
   "metadata": {},
   "source": [
    "Tracks listened by the hour of day"
   ]
  },
  {
   "cell_type": "code",
   "execution_count": 60,
   "metadata": {},
   "outputs": [
    {
     "name": "stdout",
     "output_type": "stream",
     "text": [
      "hour\n",
      "0     156.0\n",
      "1     121.0\n",
      "2      70.0\n",
      "3      52.0\n",
      "4      10.0\n",
      "6       NaN\n",
      "7       2.0\n",
      "8     155.0\n",
      "9      36.0\n",
      "10     11.0\n",
      "11     18.0\n",
      "12     58.0\n",
      "13     95.0\n",
      "14    170.0\n",
      "15    119.0\n",
      "16    102.0\n",
      "17    188.0\n",
      "18     61.0\n",
      "19     67.0\n",
      "20     85.0\n",
      "21    113.0\n",
      "22     97.0\n",
      "23     91.0\n",
      "Name: h_freq, dtype: float64\n"
     ]
    }
   ],
   "source": [
    "hour = pd.DataFrame()\n",
    "\n",
    "hour['hour'] = sorted(scrobbles_df['datetime'].dt.hour.unique())\n",
    "hour['h_freq'] = scrobbles_df['datetime'].dt.hour.value_counts(sort=True)\n",
    "hour = hour.set_index('hour')['h_freq']\n",
    "print(hour.head(25))"
   ]
  },
  {
   "cell_type": "code",
   "execution_count": 61,
   "metadata": {},
   "outputs": [
    {
     "data": {
      "image/png": "[encoded data removed]",
      "text/plain": [
       "<matplotlib.figure.Figure at 0x1c1841439e8>"
      ]
     },
     "metadata": {},
     "output_type": "display_data"
    }
   ],
   "source": [
    "ax = hour.plot(kind='bar', figsize=[14, 6], width=0.7, alpha=0.6, color='#990000', edgecolor=None, zorder=2)\n",
    "\n",
    "ax.yaxis.grid(True)\n",
    "ax.set_xticklabels(hour.index, rotation=0)\n",
    "\n",
    "ax.set_ylim((0, 2000))\n",
    "ax.set_title('Tracks played by the hour of day')\n",
    "ax.set_xlabel('Hour of day')\n",
    "ax.set_ylabel('Number of plays')\n",
    "\n",
    "plt.show()"
   ]
  },
  {
   "cell_type": "markdown",
   "metadata": {},
   "source": [
    "Tracks listened by the day of the week"
   ]
  },
  {
   "cell_type": "code",
   "execution_count": 62,
   "metadata": {},
   "outputs": [
    {
     "data": {
      "text/html": [
       "<table border=\"1\" class=\"dataframe\">\n",
       "  <thead>\n",
       "    <tr style=\"text-align: right;\">\n",
       "      <th></th>\n",
       "      <th>frequency</th>\n",
       "    </tr>\n",
       "    <tr>\n",
       "      <th>day_name</th>\n",
       "      <th></th>\n",
       "    </tr>\n",
       "  </thead>\n",
       "  <tbody>\n",
       "    <tr>\n",
       "      <th>Mon</th>\n",
       "      <td>351</td>\n",
       "    </tr>\n",
       "    <tr>\n",
       "      <th>Tue</th>\n",
       "      <td>278</td>\n",
       "    </tr>\n",
       "    <tr>\n",
       "      <th>Wed</th>\n",
       "      <td>356</td>\n",
       "    </tr>\n",
       "    <tr>\n",
       "      <th>Thu</th>\n",
       "      <td>294</td>\n",
       "    </tr>\n",
       "    <tr>\n",
       "      <th>Fri</th>\n",
       "      <td>287</td>\n",
       "    </tr>\n",
       "  </tbody>\n",
       "</table>"
      ],
      "text/plain": [
       "<IPython.core.display.HTML object>"
      ]
     },
     "metadata": {},
     "output_type": "display_data"
    }
   ],
   "source": [
    "week_df = pd.DataFrame()\n",
    "dayOfWeek={0:'Mon', 1:'Tue', 2:'Wed', 3:'Thu', 4:'Fri', 5:'Sat', 6:'Sun'}\n",
    "\n",
    "week_df['int_day'] = scrobbles_df['datetime'].dt.dayofweek\n",
    "week_df = week_df.groupby(['int_day']).size().reset_index()\n",
    "week_df.rename(columns={0: 'frequency'}, inplace=True)\n",
    "week_df['day_name'] = week_df['int_day'].map(dayOfWeek)\n",
    "week_df.set_index(['day_name'], inplace=True)\n",
    "week_df.sort_values(\"int_day\",inplace=True, ascending=True)\n",
    "week_df.drop(['int_day'],axis=1,inplace=True)\n",
    "display(HTML(week_df.head(5).to_html()))"
   ]
  },
  {
   "cell_type": "code",
   "execution_count": 63,
   "metadata": {},
   "outputs": [
    {
     "data": {
      "image/png": "[encoded data removed]",
      "text/plain": [
       "<matplotlib.figure.Figure at 0x1c181b92208>"
      ]
     },
     "metadata": {},
     "output_type": "display_data"
    }
   ],
   "source": [
    "ax = week_df.plot(kind='bar', figsize=[14, 6], width=0.7, alpha=0.6, color='#990000', edgecolor=None, zorder=2)\n",
    "\n",
    "ax.yaxis.grid(True)\n",
    "ax.set_xticklabels(hour.index, rotation=0)\n",
    "\n",
    "ax.set_ylim((0, 2000))\n",
    "ax.set_title('Tracks played by the day of week')\n",
    "ax.set_xlabel('Day of week')\n",
    "ax.set_ylabel('Number of plays')\n",
    "\n",
    "plt.show()"
   ]
  },
  {
   "cell_type": "markdown",
   "metadata": {},
   "source": [
    "heatmap for daily activity"
   ]
  },
  {
   "cell_type": "code",
   "execution_count": 64,
   "metadata": {},
   "outputs": [
    {
     "name": "stdout",
     "output_type": "stream",
     "text": [
      "date\n",
      "2019-03-26    33\n",
      "2019-03-27    37\n",
      "2019-03-28    44\n",
      "2019-03-29    10\n",
      "2019-03-30    12\n",
      "Name: date, dtype: int64\n"
     ]
    }
   ],
   "source": [
    "date = pd.DataFrame()\n",
    "date['date'] = pd.to_datetime(scrobbles_df['timestamp'].astype(int), unit='s').dt.date\n",
    "date['date'] = pd.to_datetime(date['date'])\n",
    "dateF = date.groupby('date').date.count()\n",
    "dateF=pd.Series(dateF)\n",
    "print(dateF.head(5))"
   ]
  },
  {
   "cell_type": "code",
   "execution_count": 65,
   "metadata": {},
   "outputs": [
    {
     "name": "stderr",
     "output_type": "stream",
     "text": [
      "C:\\ProgramData\\Anaconda3\\lib\\site-packages\\calmap\\__init__.py:294: FutureWarning: how in .resample() is deprecated\n",
      "the new syntax is .resample(...).sum()\n",
      "  by_day = data.resample('D', how=how)\n",
      "C:\\ProgramData\\Anaconda3\\lib\\site-packages\\calmap\\__init__.py:146: MatplotlibDeprecationWarning: The get_axis_bgcolor function was deprecated in version 2.0. Use get_facecolor instead.\n",
      "  linecolor = ax.get_axis_bgcolor()\n"
     ]
    },
    {
     "data": {
      "text/plain": [
       "(<matplotlib.figure.Figure at 0x1c181ba2240>,\n",
       " array([<matplotlib.axes._subplots.AxesSubplot object at 0x000001C1842D84A8>],\n",
       "       dtype=object))"
      ]
     },
     "execution_count": 65,
     "metadata": {},
     "output_type": "execute_result"
    },
    {
     "data": {
      "image/png": "[encoded data removed]",
      "text/plain": [
       "<matplotlib.figure.Figure at 0x1c181ba2240>"
      ]
     },
     "metadata": {},
     "output_type": "display_data"
    }
   ],
   "source": [
    "plt.rcParams[\"figure.figsize\"]=14,6\n",
    "cm.calendarplot(dateF)"
   ]
  },
  {
   "cell_type": "markdown",
   "metadata": {},
   "source": [
    "### Total listening time"
   ]
  },
  {
   "cell_type": "code",
   "execution_count": 66,
   "metadata": {},
   "outputs": [
    {
     "name": "stdout",
     "output_type": "stream",
     "text": [
      "Mean tracks listened per day 21\n",
      "5.0 days\n",
      "2.0 hrs\n",
      "49.0 mins\n"
     ]
    }
   ],
   "source": [
    "print(\"Mean tracks listened per day \"+str(round(dateF.mean())))\n",
    "listeningTime_totalms = scrobbles_df['lengthMS'].sum()\n",
    "listeningTime_totals = str(round((listeningTime_totalms / 1000) % 60))\n",
    "listeningTime_totalmin = str(round(((listeningTime_totalms / (1000*60)) % 60)))\n",
    "listeningTime_totalhrs   = str(round((listeningTime_totalms / (1000*60*60)) % 24))\n",
    "listeningTime_totaldays = str(round((listeningTime_totalms / (1000*60*60*24))))\n",
    "\n",
    "print(listeningTime_totaldays+\" days\")\n",
    "print(listeningTime_totalhrs+\" hrs\")\n",
    "print(listeningTime_totalmin+\" mins\")"
   ]
  },
  {
   "cell_type": "markdown",
   "metadata": {},
   "source": [
    "#### Extracting data for billboard hot 100 playlist for use as a baseline of comparison"
   ]
  },
  {
   "cell_type": "code",
   "execution_count": 67,
   "metadata": {},
   "outputs": [
    {
     "name": "stdout",
     "output_type": "stream",
     "text": [
      "\n",
      "\n",
      "Fetching playlist\n"
     ]
    },
    {
     "name": "stderr",
     "output_type": "stream",
     "text": [
      "100%|████████████████████████████████████████████████████████████████████████████████| 100/100 [00:12<00:00,  8.14it/s]\n"
     ]
    },
    {
     "name": "stdout",
     "output_type": "stream",
     "text": [
      "\n",
      "Fetching audio features for tracks\n"
     ]
    },
    {
     "name": "stderr",
     "output_type": "stream",
     "text": [
      "100%|████████████████████████████████████████████████████████████████████████████████| 100/100 [00:12<00:00,  8.33it/s]\n"
     ]
    },
    {
     "name": "stdout",
     "output_type": "stream",
     "text": [
      "tracks without audio features : 0\n"
     ]
    },
    {
     "data": {
      "text/html": [
       "<table border=\"1\" class=\"dataframe\">\n",
       "  <thead>\n",
       "    <tr style=\"text-align: right;\">\n",
       "      <th></th>\n",
       "      <th>track</th>\n",
       "      <th>trackID</th>\n",
       "      <th>artist</th>\n",
       "      <th>artistID</th>\n",
       "      <th>genre</th>\n",
       "      <th>lengthMS</th>\n",
       "      <th>popularity</th>\n",
       "      <th>danceability</th>\n",
       "      <th>energy</th>\n",
       "      <th>key</th>\n",
       "      <th>loudness</th>\n",
       "      <th>mode</th>\n",
       "      <th>speechiness</th>\n",
       "      <th>acousticness</th>\n",
       "      <th>liveness</th>\n",
       "      <th>instrumentalness</th>\n",
       "      <th>valence</th>\n",
       "      <th>tempo</th>\n",
       "    </tr>\n",
       "  </thead>\n",
       "  <tbody>\n",
       "    <tr>\n",
       "      <th>0</th>\n",
       "      <td>Old Town Road - Remix</td>\n",
       "      <td>6u7jPi22kF8CTQ3rb9DHE7</td>\n",
       "      <td>Lil Nas X</td>\n",
       "      <td>7jVv8c5Fj3E9VhNjxT4snq</td>\n",
       "      <td>country rap</td>\n",
       "      <td>157066</td>\n",
       "      <td>98</td>\n",
       "      <td>0.878</td>\n",
       "      <td>0.619</td>\n",
       "      <td>6</td>\n",
       "      <td>-5.560</td>\n",
       "      <td>1</td>\n",
       "      <td>0.1020</td>\n",
       "      <td>0.0533</td>\n",
       "      <td>0.1130</td>\n",
       "      <td>0.00</td>\n",
       "      <td>0.639</td>\n",
       "      <td>136.041</td>\n",
       "    </tr>\n",
       "    <tr>\n",
       "      <th>1</th>\n",
       "      <td>Señorita</td>\n",
       "      <td>0TK2YIli7K1leLovkQiNik</td>\n",
       "      <td>Shawn Mendes</td>\n",
       "      <td>7n2wHs1TKAczGzO7Dd2rGr</td>\n",
       "      <td>canadian pop</td>\n",
       "      <td>190960</td>\n",
       "      <td>99</td>\n",
       "      <td>0.759</td>\n",
       "      <td>0.540</td>\n",
       "      <td>9</td>\n",
       "      <td>-6.039</td>\n",
       "      <td>0</td>\n",
       "      <td>0.0287</td>\n",
       "      <td>0.0370</td>\n",
       "      <td>0.0945</td>\n",
       "      <td>0.00</td>\n",
       "      <td>0.750</td>\n",
       "      <td>116.947</td>\n",
       "    </tr>\n",
       "    <tr>\n",
       "      <th>2</th>\n",
       "      <td>bad guy</td>\n",
       "      <td>2Fxmhks0bxGSBdJ92vM42m</td>\n",
       "      <td>Billie Eilish</td>\n",
       "      <td>6qqNVTkY8uBg9cP3Jd7DAH</td>\n",
       "      <td>electropop</td>\n",
       "      <td>194087</td>\n",
       "      <td>99</td>\n",
       "      <td>0.701</td>\n",
       "      <td>0.425</td>\n",
       "      <td>7</td>\n",
       "      <td>-10.965</td>\n",
       "      <td>1</td>\n",
       "      <td>0.3750</td>\n",
       "      <td>0.3280</td>\n",
       "      <td>0.1000</td>\n",
       "      <td>0.13</td>\n",
       "      <td>0.562</td>\n",
       "      <td>135.128</td>\n",
       "    </tr>\n",
       "    <tr>\n",
       "      <th>3</th>\n",
       "      <td>Talk</td>\n",
       "      <td>0rTV5WefWd1J3OwIheTzxM</td>\n",
       "      <td>Khalid</td>\n",
       "      <td>6LuN9FCkKOj5PcnpouEgny</td>\n",
       "      <td>pop</td>\n",
       "      <td>197487</td>\n",
       "      <td>86</td>\n",
       "      <td>0.900</td>\n",
       "      <td>0.400</td>\n",
       "      <td>0</td>\n",
       "      <td>-8.443</td>\n",
       "      <td>1</td>\n",
       "      <td>0.1240</td>\n",
       "      <td>0.0501</td>\n",
       "      <td>0.0876</td>\n",
       "      <td>0.00</td>\n",
       "      <td>0.338</td>\n",
       "      <td>136.001</td>\n",
       "    </tr>\n",
       "    <tr>\n",
       "      <th>4</th>\n",
       "      <td>I Don't Care (with Justin Bieber)</td>\n",
       "      <td>3HVWdVOQ0ZA45FuZGSfvns</td>\n",
       "      <td>Ed Sheeran</td>\n",
       "      <td>6eUKZXaKkcviH0Ku9w2n3V</td>\n",
       "      <td>pop</td>\n",
       "      <td>219946</td>\n",
       "      <td>100</td>\n",
       "      <td>0.798</td>\n",
       "      <td>0.675</td>\n",
       "      <td>6</td>\n",
       "      <td>-5.041</td>\n",
       "      <td>1</td>\n",
       "      <td>0.0442</td>\n",
       "      <td>0.0912</td>\n",
       "      <td>0.0894</td>\n",
       "      <td>0.00</td>\n",
       "      <td>0.842</td>\n",
       "      <td>101.956</td>\n",
       "    </tr>\n",
       "  </tbody>\n",
       "</table>"
      ],
      "text/plain": [
       "<IPython.core.display.HTML object>"
      ]
     },
     "metadata": {},
     "output_type": "display_data"
    }
   ],
   "source": [
    "billboard_df = lf.get_playlist(user='billboard.com', playlist_id='6UeSakyzhiEt4NB3UAd6NQ')\n",
    "display(HTML(billboard_df.head(5).to_html()))"
   ]
  },
  {
   "cell_type": "code",
   "execution_count": 68,
   "metadata": {},
   "outputs": [
    {
     "data": {
      "text/html": [
       "<div>\n",
       "<style scoped>\n",
       "    .dataframe tbody tr th:only-of-type {\n",
       "        vertical-align: middle;\n",
       "    }\n",
       "\n",
       "    .dataframe tbody tr th {\n",
       "        vertical-align: top;\n",
       "    }\n",
       "\n",
       "    .dataframe thead th {\n",
       "        text-align: right;\n",
       "    }\n",
       "</style>\n",
       "<table border=\"1\" class=\"dataframe\">\n",
       "  <thead>\n",
       "    <tr style=\"text-align: right;\">\n",
       "      <th></th>\n",
       "      <th>lengthMS</th>\n",
       "      <th>popularity</th>\n",
       "      <th>danceability</th>\n",
       "      <th>energy</th>\n",
       "      <th>key</th>\n",
       "      <th>loudness</th>\n",
       "      <th>mode</th>\n",
       "      <th>speechiness</th>\n",
       "      <th>acousticness</th>\n",
       "      <th>liveness</th>\n",
       "      <th>instrumentalness</th>\n",
       "      <th>valence</th>\n",
       "      <th>tempo</th>\n",
       "    </tr>\n",
       "  </thead>\n",
       "  <tbody>\n",
       "    <tr>\n",
       "      <th>count</th>\n",
       "      <td>100.000000</td>\n",
       "      <td>100.000000</td>\n",
       "      <td>100.000000</td>\n",
       "      <td>100.000000</td>\n",
       "      <td>100.000000</td>\n",
       "      <td>100.000000</td>\n",
       "      <td>100.000000</td>\n",
       "      <td>100.000000</td>\n",
       "      <td>100.000000</td>\n",
       "      <td>100.000000</td>\n",
       "      <td>1.000000e+02</td>\n",
       "      <td>100.000000</td>\n",
       "      <td>100.000000</td>\n",
       "    </tr>\n",
       "    <tr>\n",
       "      <th>mean</th>\n",
       "      <td>197206.150000</td>\n",
       "      <td>83.090000</td>\n",
       "      <td>0.711620</td>\n",
       "      <td>0.632720</td>\n",
       "      <td>4.740000</td>\n",
       "      <td>-5.713200</td>\n",
       "      <td>0.650000</td>\n",
       "      <td>0.123224</td>\n",
       "      <td>0.197282</td>\n",
       "      <td>0.162540</td>\n",
       "      <td>5.533449e-03</td>\n",
       "      <td>0.507657</td>\n",
       "      <td>119.456010</td>\n",
       "    </tr>\n",
       "    <tr>\n",
       "      <th>std</th>\n",
       "      <td>33145.224855</td>\n",
       "      <td>11.194421</td>\n",
       "      <td>0.124063</td>\n",
       "      <td>0.142052</td>\n",
       "      <td>3.398217</td>\n",
       "      <td>1.840953</td>\n",
       "      <td>0.479372</td>\n",
       "      <td>0.115987</td>\n",
       "      <td>0.194106</td>\n",
       "      <td>0.115437</td>\n",
       "      <td>4.116045e-02</td>\n",
       "      <td>0.216446</td>\n",
       "      <td>29.572375</td>\n",
       "    </tr>\n",
       "    <tr>\n",
       "      <th>min</th>\n",
       "      <td>114893.000000</td>\n",
       "      <td>24.000000</td>\n",
       "      <td>0.423000</td>\n",
       "      <td>0.321000</td>\n",
       "      <td>0.000000</td>\n",
       "      <td>-11.713000</td>\n",
       "      <td>0.000000</td>\n",
       "      <td>0.028000</td>\n",
       "      <td>0.001240</td>\n",
       "      <td>0.057400</td>\n",
       "      <td>0.000000e+00</td>\n",
       "      <td>0.089700</td>\n",
       "      <td>70.142000</td>\n",
       "    </tr>\n",
       "    <tr>\n",
       "      <th>25%</th>\n",
       "      <td>176736.250000</td>\n",
       "      <td>78.000000</td>\n",
       "      <td>0.627000</td>\n",
       "      <td>0.523750</td>\n",
       "      <td>1.000000</td>\n",
       "      <td>-6.781250</td>\n",
       "      <td>0.000000</td>\n",
       "      <td>0.044575</td>\n",
       "      <td>0.048250</td>\n",
       "      <td>0.092550</td>\n",
       "      <td>0.000000e+00</td>\n",
       "      <td>0.344750</td>\n",
       "      <td>95.927250</td>\n",
       "    </tr>\n",
       "    <tr>\n",
       "      <th>50%</th>\n",
       "      <td>192789.500000</td>\n",
       "      <td>84.500000</td>\n",
       "      <td>0.725500</td>\n",
       "      <td>0.632500</td>\n",
       "      <td>5.000000</td>\n",
       "      <td>-5.575000</td>\n",
       "      <td>1.000000</td>\n",
       "      <td>0.069000</td>\n",
       "      <td>0.125500</td>\n",
       "      <td>0.123500</td>\n",
       "      <td>0.000000e+00</td>\n",
       "      <td>0.489000</td>\n",
       "      <td>115.362500</td>\n",
       "    </tr>\n",
       "    <tr>\n",
       "      <th>75%</th>\n",
       "      <td>215070.750000</td>\n",
       "      <td>90.000000</td>\n",
       "      <td>0.795250</td>\n",
       "      <td>0.731000</td>\n",
       "      <td>8.000000</td>\n",
       "      <td>-4.639250</td>\n",
       "      <td>1.000000</td>\n",
       "      <td>0.155250</td>\n",
       "      <td>0.324250</td>\n",
       "      <td>0.191000</td>\n",
       "      <td>2.675000e-07</td>\n",
       "      <td>0.656250</td>\n",
       "      <td>140.036750</td>\n",
       "    </tr>\n",
       "    <tr>\n",
       "      <th>max</th>\n",
       "      <td>312820.000000</td>\n",
       "      <td>100.000000</td>\n",
       "      <td>0.948000</td>\n",
       "      <td>0.904000</td>\n",
       "      <td>11.000000</td>\n",
       "      <td>-2.232000</td>\n",
       "      <td>1.000000</td>\n",
       "      <td>0.588000</td>\n",
       "      <td>0.816000</td>\n",
       "      <td>0.795000</td>\n",
       "      <td>3.910000e-01</td>\n",
       "      <td>0.952000</td>\n",
       "      <td>202.006000</td>\n",
       "    </tr>\n",
       "  </tbody>\n",
       "</table>\n",
       "</div>"
      ],
      "text/plain": [
       "            lengthMS  popularity  danceability      energy         key  \\\n",
       "count     100.000000  100.000000    100.000000  100.000000  100.000000   \n",
       "mean   197206.150000   83.090000      0.711620    0.632720    4.740000   \n",
       "std     33145.224855   11.194421      0.124063    0.142052    3.398217   \n",
       "min    114893.000000   24.000000      0.423000    0.321000    0.000000   \n",
       "25%    176736.250000   78.000000      0.627000    0.523750    1.000000   \n",
       "50%    192789.500000   84.500000      0.725500    0.632500    5.000000   \n",
       "75%    215070.750000   90.000000      0.795250    0.731000    8.000000   \n",
       "max    312820.000000  100.000000      0.948000    0.904000   11.000000   \n",
       "\n",
       "         loudness        mode  speechiness  acousticness    liveness  \\\n",
       "count  100.000000  100.000000   100.000000    100.000000  100.000000   \n",
       "mean    -5.713200    0.650000     0.123224      0.197282    0.162540   \n",
       "std      1.840953    0.479372     0.115987      0.194106    0.115437   \n",
       "min    -11.713000    0.000000     0.028000      0.001240    0.057400   \n",
       "25%     -6.781250    0.000000     0.044575      0.048250    0.092550   \n",
       "50%     -5.575000    1.000000     0.069000      0.125500    0.123500   \n",
       "75%     -4.639250    1.000000     0.155250      0.324250    0.191000   \n",
       "max     -2.232000    1.000000     0.588000      0.816000    0.795000   \n",
       "\n",
       "       instrumentalness     valence       tempo  \n",
       "count      1.000000e+02  100.000000  100.000000  \n",
       "mean       5.533449e-03    0.507657  119.456010  \n",
       "std        4.116045e-02    0.216446   29.572375  \n",
       "min        0.000000e+00    0.089700   70.142000  \n",
       "25%        0.000000e+00    0.344750   95.927250  \n",
       "50%        0.000000e+00    0.489000  115.362500  \n",
       "75%        2.675000e-07    0.656250  140.036750  \n",
       "max        3.910000e-01    0.952000  202.006000  "
      ]
     },
     "execution_count": 68,
     "metadata": {},
     "output_type": "execute_result"
    }
   ],
   "source": [
    "billboard_df.describe()"
   ]
  },
  {
   "cell_type": "markdown",
   "metadata": {},
   "source": [
    "genres in Billboard Hot 100"
   ]
  },
  {
   "cell_type": "code",
   "execution_count": 69,
   "metadata": {},
   "outputs": [
    {
     "data": {
      "text/html": [
       "<table border=\"1\" class=\"dataframe\">\n",
       "  <thead>\n",
       "    <tr style=\"text-align: right;\">\n",
       "      <th></th>\n",
       "      <th>frequency</th>\n",
       "    </tr>\n",
       "    <tr>\n",
       "      <th>genre</th>\n",
       "      <th></th>\n",
       "    </tr>\n",
       "  </thead>\n",
       "  <tbody>\n",
       "    <tr>\n",
       "      <th>contemporary country</th>\n",
       "      <td>18</td>\n",
       "    </tr>\n",
       "    <tr>\n",
       "      <th>dance pop</th>\n",
       "      <td>15</td>\n",
       "    </tr>\n",
       "    <tr>\n",
       "      <th>pop</th>\n",
       "      <td>11</td>\n",
       "    </tr>\n",
       "    <tr>\n",
       "      <th>hip hop</th>\n",
       "      <td>6</td>\n",
       "    </tr>\n",
       "    <tr>\n",
       "      <th>boy band</th>\n",
       "      <td>4</td>\n",
       "    </tr>\n",
       "  </tbody>\n",
       "</table>"
      ],
      "text/plain": [
       "<IPython.core.display.HTML object>"
      ]
     },
     "metadata": {},
     "output_type": "display_data"
    }
   ],
   "source": [
    "BBgenre_df = pd.DataFrame()\n",
    "BBgenre_df['genre'] = billboard_df['genre']\n",
    "BBgenre_df = billboard_df.groupby(['genre']).size().reset_index()\n",
    "BBgenre_df.rename(columns={0: 'frequency'}, inplace=True)\n",
    "BBgenre_df.set_index(['genre'], inplace=True)\n",
    "BBgenre_df.sort_values(\"frequency\",inplace=True, ascending=False)\n",
    "display(HTML(BBgenre_df.head(5).to_html()))"
   ]
  },
  {
   "cell_type": "code",
   "execution_count": 70,
   "metadata": {},
   "outputs": [
    {
     "data": {
      "image/png": "[encoded data removed]",
      "text/plain": [
       "<matplotlib.figure.Figure at 0x1c184374cc0>"
      ]
     },
     "metadata": {},
     "output_type": "display_data"
    }
   ],
   "source": [
    "ax = BBgenre_df.plot(kind='bar', figsize=[20, 6], width=0.7, alpha=0.6, color='#1db954', edgecolor=None, zorder=2)\n",
    "\n",
    "ax.yaxis.grid(True)\n",
    "ax.set_xticklabels(BBgenre_df.index, rotation=45, rotation_mode='anchor', ha='right')\n",
    "ax.set_ylim((0, 20))\n",
    "ax.set_title('BillBoard Hot 100 Genres')\n",
    "ax.set_xlabel('Genres')\n",
    "ax.set_ylabel('Number of plays')\n",
    "\n",
    "plt.show()"
   ]
  },
  {
   "cell_type": "markdown",
   "metadata": {},
   "source": [
    "# The top 1%"
   ]
  },
  {
   "cell_type": "code",
   "execution_count": 71,
   "metadata": {},
   "outputs": [],
   "source": [
    "def top (ser):\n",
    "    total=len(ser)\n",
    "    #print(total)\n",
    "    tp = int(round ((0.01*total)))\n",
    "    #print(tp)\n",
    "    res = ser.head(tp).sum()\n",
    "    return res\n",
    "def topPC(ser):\n",
    "    total=len(ser)\n",
    "    #print(total)\n",
    "    tp = int(round ((0.01*total)))\n",
    "    #print(tp)\n",
    "    res = ser.head(tp).sum()\n",
    "    pc=((res/len(scrobblesDF.index))*100)\n",
    "    return pc\n",
    "def onePC(df):\n",
    "    total=len(df.index)\n",
    "    tp = int(round((0.01*total)))\n",
    "    #print(tp)\n",
    "    return tp\n",
    "def AEP(ser):\n",
    "    #print(ser.head(50))\n",
    "    slope = (ser[0]-ser[49])/50\n",
    "    #print(slope)\n",
    "    avg = ser.head(50).mean()\n",
    "    #print(avg)\n",
    "    score = 5-(slope/avg)*25\n",
    "    return round(score,2)"
   ]
  },
  {
   "cell_type": "markdown",
   "metadata": {},
   "source": [
    "## AEP and Diversity\n",
    "\n",
    "### AEP\n",
    "> The AEP [Anti Exponential Points] is a number that is between -20 and 5 that shows how much preference a last.fm user has for his or her top artists or tracks. 5 is the max value for the AEP and it takes this value when the user has listened all the 50 top artists an equal number of times.\n",
    "\n",
    "### Diversity\n",
    "> Similar to AEP but for genres.\n",
    "\n",
    "#### AEP Formula\n",
    "\n",
    " > AEP = 5 - 25 * ( Slope / AverageTop50 )\n",
    "\n",
    " > Slope = (value of the first artist in the chart - value of the 50th artist in the chart) / 50\n",
    "\n",
    " > AverageTop50 = ( The sum of all values in the top 50 ) / 50"
   ]
  },
  {
   "cell_type": "code",
   "execution_count": 72,
   "metadata": {},
   "outputs": [
    {
     "name": "stdout",
     "output_type": "stream",
     "text": [
      "Diversity for genres 1.87\n",
      "AEP for artists 2.27\n",
      "AEP for tracks 4.04\n"
     ]
    }
   ],
   "source": [
    "print(\"Diversity for genres \"+str(AEP(genre_df['frequency'])))\n",
    "print(\"AEP for artists \"+str(AEP(artist_df['frequency'])))\n",
    "print(\"AEP for tracks \"+str(AEP(track_df['frequency'])))"
   ]
  },
  {
   "cell_type": "code",
   "execution_count": null,
   "metadata": {},
   "outputs": [],
   "source": []
  }
 ],
 "metadata": {
  "colab": {
   "collapsed_sections": [],
   "name": "Untitled.ipynb",
   "provenance": [],
   "version": "0.3.2"
  },
  "kernelspec": {
   "display_name": "Python 3",
   "language": "python",
   "name": "python3"
  },
  "language_info": {
   "codemirror_mode": {
    "name": "ipython",
    "version": 3
   },
   "file_extension": ".py",
   "mimetype": "text/x-python",
   "name": "python",
   "nbconvert_exporter": "python",
   "pygments_lexer": "ipython3",
   "version": "3.6.4"
  },
  "pycharm": {
   "stem_cell": {
    "cell_type": "raw",
    "metadata": {
     "collapsed": false
    },
    "source": []
   }
  }
 },
 "nbformat": 4,
 "nbformat_minor": 1
}
