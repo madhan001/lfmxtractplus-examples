{
 "cells": [
  {
   "cell_type": "markdown",
   "metadata": {
    "colab_type": "text",
    "id": "pJupgNDem-NC"
   },
   "source": [
    "# Music listening history analysis"
   ]
  },
  {
   "cell_type": "markdown",
   "metadata": {
    "colab_type": "text",
    "id": "CTsjdJcjm-ND"
   },
   "source": [
    "Import required packages"
   ]
  },
  {
   "cell_type": "code",
   "execution_count": 64,
   "metadata": {
    "colab": {
     "base_uri": "https://localhost:8080/",
     "height": 790
    },
    "colab_type": "code",
    "id": "rpchWmygm-NE",
    "outputId": "26b82190-9a35-4308-b20b-c7e234e93b4c"
   },
   "outputs": [],
   "source": [
    "import lfmxtractplus.export_data as lf\n",
    "import pandas as pd\n",
    "import matplotlib.pyplot as plt\n",
    "import datetime as dt\n",
    "import seaborn as sns\n",
    "#import calmap as cm\n",
    "from IPython.display import display, HTML\n",
    "\n",
    "%matplotlib inline\n"
   ]
  },
  {
   "cell_type": "markdown",
   "metadata": {
    "colab_type": "text",
    "id": "OH5jyEQ9m-NG"
   },
   "source": [
    "initialize lfmxtractplus with config.yaml"
   ]
  },
  {
   "cell_type": "code",
   "execution_count": 65,
   "metadata": {
    "colab": {
     "base_uri": "https://localhost:8080/",
     "height": 70
    },
    "colab_type": "code",
    "id": "ca70mpdHm-NH",
    "outputId": "6c79be89-da10-44ef-be0f-191b5cee5164",
    "scrolled": true
   },
   "outputs": [
    {
     "name": "stdout",
     "output_type": "stream",
     "text": [
      "https://accounts.spotify.com/authorize?client_id=c6df0ec4beda4f589b5984801224bfd6&response_type=code&redirect_uri=https%3A%2F%2Fexample.com%2Fcallback%2F\n",
      "Paste the above link into your browser, then paste the redirect url here: https://example.com/callback/?code=AQBgZDKYzcvsLqpIn8kEcDuVZuakG_y-dzVo6cRwTVHXdMqieAgax-azjLhzrdA9Gc6sqN65wLieXpj4IqKCn1QZYL2yC77gnnv4HS2ioJHZFGsmk1x3KG8fFMF-hQrqkA-yDrM66lXkMzYxpd-q1oDE05725uzH_K4HAxgXD8lNwYheMJbhn0Ee9ax3hXvGow_lQaU\n"
     ]
    }
   ],
   "source": [
    "lf.initialize('C:\\\\Users\\Madhan\\PycharmProjects\\lfm4pandas\\config.yaml')"
   ]
  },
  {
   "cell_type": "markdown",
   "metadata": {
    "colab_type": "text",
    "id": "c9NhqZN6m-NK"
   },
   "source": [
    "Get listening history from last.fm and enrich with spotify audio features"
   ]
  },
  {
   "cell_type": "code",
   "execution_count": 66,
   "metadata": {
    "colab": {
     "base_uri": "https://localhost:8080/",
     "height": 252
    },
    "colab_type": "code",
    "id": "LYtw-ESLm-NK",
    "outputId": "608960f2-4669-4b73-fca8-4e31f835d038",
    "scrolled": true
   },
   "outputs": [
    {
     "name": "stdout",
     "output_type": "stream",
     "text": [
      "\n",
      "Fetching data from last.fm for user madhan_001\n",
      "\n",
      "15879 total tracks scrobbled by the user\n",
      "\n",
      "80 total pages to retrieve\n"
     ]
    },
    {
     "name": "stderr",
     "output_type": "stream",
     "text": [
      "100%|██████████████████████████████████████████████████████████████████████████████████| 80/80 [04:18<00:00,  2.96s/it]\n"
     ]
    },
    {
     "name": "stdout",
     "output_type": "stream",
     "text": [
      "\n",
      "\n",
      "Fetching SpotifyID for tracks\n"
     ]
    },
    {
     "name": "stderr",
     "output_type": "stream",
     "text": [
      "100%|██████████████████████████████████████████████████████████████████████████████| 1866/1866 [08:48<00:00,  3.26it/s]\n"
     ]
    },
    {
     "name": "stdout",
     "output_type": "stream",
     "text": [
      "\n",
      "tracks without spotifyID : 17\n",
      "\n",
      "Fetching audio features for tracks\n"
     ]
    },
    {
     "name": "stderr",
     "output_type": "stream",
     "text": [
      "100%|██████████████████████████████████████████████████████████████████████████████| 1866/1866 [03:54<00:00,  7.82it/s]\n"
     ]
    },
    {
     "name": "stdout",
     "output_type": "stream",
     "text": [
      "tracks without audio features : 17\n"
     ]
    }
   ],
   "source": [
    "scrobbles_dict = lf.generate_dataset(lfusername='madhan_001', pages=0)\n",
    "scrobbles_df = scrobbles_dict['complete']"
   ]
  },
  {
   "cell_type": "markdown",
   "metadata": {
    "colab_type": "text",
    "id": "gXEL63f3m-NN"
   },
   "source": [
    "Display extracted data"
   ]
  },
  {
   "cell_type": "code",
   "execution_count": 67,
   "metadata": {
    "colab": {
     "base_uri": "https://localhost:8080/",
     "height": 501
    },
    "colab_type": "code",
    "id": "E0FTbZ97m-NO",
    "outputId": "f1bcac6d-0c65-4395-cf8e-b8232f29d386",
    "scrolled": false
   },
   "outputs": [
    {
     "name": "stdout",
     "output_type": "stream",
     "text": [
      "Plays by timestamp\n"
     ]
    },
    {
     "data": {
      "text/html": [
       "<table border=\"1\" class=\"dataframe\">\n",
       "  <thead>\n",
       "    <tr style=\"text-align: right;\">\n",
       "      <th></th>\n",
       "      <th>timestamp</th>\n",
       "      <th>datetime</th>\n",
       "      <th>artist_name</th>\n",
       "      <th>artist_mbid</th>\n",
       "      <th>album_name</th>\n",
       "      <th>album_mbid</th>\n",
       "      <th>track_name</th>\n",
       "      <th>track_mbid</th>\n",
       "      <th>frequency</th>\n",
       "      <th>trackID</th>\n",
       "      <th>lengthMS</th>\n",
       "      <th>popularity</th>\n",
       "      <th>genre_name</th>\n",
       "      <th>danceability</th>\n",
       "      <th>energy</th>\n",
       "      <th>key</th>\n",
       "      <th>loudness</th>\n",
       "      <th>mode</th>\n",
       "      <th>speechiness</th>\n",
       "      <th>acousticness</th>\n",
       "      <th>liveness</th>\n",
       "      <th>instrumentalness</th>\n",
       "      <th>valence</th>\n",
       "      <th>tempo</th>\n",
       "    </tr>\n",
       "  </thead>\n",
       "  <tbody>\n",
       "    <tr>\n",
       "      <th>0</th>\n",
       "      <td>1562348478</td>\n",
       "      <td>2019-07-05 23:11:18+05:30</td>\n",
       "      <td>Greta Van Fleet</td>\n",
       "      <td>0be22557-d8c7-4706-a531-625c4c570162</td>\n",
       "      <td>From The Fires</td>\n",
       "      <td>1d2a4612-587f-4cf6-9c8a-8136aa2763dd</td>\n",
       "      <td>Black Smoke Rising</td>\n",
       "      <td>20e7af43-72da-48c9-8bc1-707bb9e03fd0</td>\n",
       "      <td>28</td>\n",
       "      <td>32BEasyNQgqXQJKoVa0fUw</td>\n",
       "      <td>259893.0</td>\n",
       "      <td>68.0</td>\n",
       "      <td>modern blues rock</td>\n",
       "      <td>0.372</td>\n",
       "      <td>0.911</td>\n",
       "      <td>7.0</td>\n",
       "      <td>-3.949</td>\n",
       "      <td>1.0</td>\n",
       "      <td>0.0694</td>\n",
       "      <td>0.187000</td>\n",
       "      <td>0.0883</td>\n",
       "      <td>0.000199</td>\n",
       "      <td>0.536</td>\n",
       "      <td>200.012</td>\n",
       "    </tr>\n",
       "    <tr>\n",
       "      <th>1</th>\n",
       "      <td>1562348215</td>\n",
       "      <td>2019-07-05 23:06:55+05:30</td>\n",
       "      <td>Grimes</td>\n",
       "      <td>7e5a2a59-6d9f-4a17-b7c2-e1eedb7bd222</td>\n",
       "      <td>Art Angels</td>\n",
       "      <td>04cd7071-8236-4d09-95b4-20dc8ded36fe</td>\n",
       "      <td>Flesh Without Blood</td>\n",
       "      <td>2e40404b-b614-497f-9fc7-2c272aa5ef1c</td>\n",
       "      <td>7</td>\n",
       "      <td>4ZcGbQ5dOKX6rJk4yvza9R</td>\n",
       "      <td>264523.0</td>\n",
       "      <td>57.0</td>\n",
       "      <td>art pop</td>\n",
       "      <td>0.481</td>\n",
       "      <td>0.965</td>\n",
       "      <td>8.0</td>\n",
       "      <td>-2.993</td>\n",
       "      <td>1.0</td>\n",
       "      <td>0.0875</td>\n",
       "      <td>0.000904</td>\n",
       "      <td>0.4760</td>\n",
       "      <td>0.000727</td>\n",
       "      <td>0.660</td>\n",
       "      <td>155.938</td>\n",
       "    </tr>\n",
       "    <tr>\n",
       "      <th>2</th>\n",
       "      <td>1562347956</td>\n",
       "      <td>2019-07-05 23:02:36+05:30</td>\n",
       "      <td>Grimes</td>\n",
       "      <td>7e5a2a59-6d9f-4a17-b7c2-e1eedb7bd222</td>\n",
       "      <td>Art Angels</td>\n",
       "      <td>04cd7071-8236-4d09-95b4-20dc8ded36fe</td>\n",
       "      <td>Venus Fly</td>\n",
       "      <td>78b69105-4662-4b4d-a8b9-bfd17a871bf2</td>\n",
       "      <td>37</td>\n",
       "      <td>3JI2mIJto0JuYbrq87aFqu</td>\n",
       "      <td>225734.0</td>\n",
       "      <td>54.0</td>\n",
       "      <td>art pop</td>\n",
       "      <td>0.620</td>\n",
       "      <td>0.742</td>\n",
       "      <td>4.0</td>\n",
       "      <td>-7.327</td>\n",
       "      <td>0.0</td>\n",
       "      <td>0.0273</td>\n",
       "      <td>0.000285</td>\n",
       "      <td>0.2970</td>\n",
       "      <td>0.869000</td>\n",
       "      <td>0.252</td>\n",
       "      <td>128.410</td>\n",
       "    </tr>\n",
       "    <tr>\n",
       "      <th>3</th>\n",
       "      <td>1562347764</td>\n",
       "      <td>2019-07-05 22:59:24+05:30</td>\n",
       "      <td>All Time Low</td>\n",
       "      <td>62162215-b023-4f0e-84bd-1e9412d5b32c</td>\n",
       "      <td>Future Hearts</td>\n",
       "      <td>0573c7a9-c6bc-48dd-9939-673a64c8dd96</td>\n",
       "      <td>Something's Gotta Give</td>\n",
       "      <td>0f3538e0-2d8c-4d8b-9541-c6ccfa586db9</td>\n",
       "      <td>25</td>\n",
       "      <td>6OPoF9qiuV2dNfJ44w3X4M</td>\n",
       "      <td>189418.0</td>\n",
       "      <td>57.0</td>\n",
       "      <td>neon pop punk</td>\n",
       "      <td>0.496</td>\n",
       "      <td>0.913</td>\n",
       "      <td>4.0</td>\n",
       "      <td>-3.286</td>\n",
       "      <td>1.0</td>\n",
       "      <td>0.0448</td>\n",
       "      <td>0.010100</td>\n",
       "      <td>0.1180</td>\n",
       "      <td>0.000000</td>\n",
       "      <td>0.675</td>\n",
       "      <td>165.981</td>\n",
       "    </tr>\n",
       "    <tr>\n",
       "      <th>4</th>\n",
       "      <td>1562347582</td>\n",
       "      <td>2019-07-05 22:56:22+05:30</td>\n",
       "      <td>MØ</td>\n",
       "      <td>3ab2ee23-1c2f-458c-9c8c-ca4844729120</td>\n",
       "      <td>Blur (feat. Foster The People)</td>\n",
       "      <td></td>\n",
       "      <td>Blur (Feat. Foster The People)</td>\n",
       "      <td></td>\n",
       "      <td>18</td>\n",
       "      <td>653SgdD6rQ9YPtsqRgQVzm</td>\n",
       "      <td>181961.0</td>\n",
       "      <td>63.0</td>\n",
       "      <td>dance pop</td>\n",
       "      <td>0.616</td>\n",
       "      <td>0.809</td>\n",
       "      <td>1.0</td>\n",
       "      <td>-4.775</td>\n",
       "      <td>0.0</td>\n",
       "      <td>0.0330</td>\n",
       "      <td>0.014800</td>\n",
       "      <td>0.7180</td>\n",
       "      <td>0.000000</td>\n",
       "      <td>0.468</td>\n",
       "      <td>140.007</td>\n",
       "    </tr>\n",
       "  </tbody>\n",
       "</table>"
      ],
      "text/plain": [
       "<IPython.core.display.HTML object>"
      ]
     },
     "metadata": {},
     "output_type": "display_data"
    }
   ],
   "source": [
    "print(\"Plays by timestamp\")\n",
    "display(HTML(scrobbles_df.head(5).to_html()))"
   ]
  },
  {
   "cell_type": "code",
   "execution_count": 68,
   "metadata": {
    "colab": {
     "base_uri": "https://localhost:8080/",
     "height": 299
    },
    "colab_type": "code",
    "id": "f9J0ZuRfm-NQ",
    "outputId": "fd8094e1-4b0f-40fb-9f8a-e630d3b45fec"
   },
   "outputs": [
    {
     "data": {
      "text/html": [
       "<table border=\"1\" class=\"dataframe\">\n",
       "  <thead>\n",
       "    <tr style=\"text-align: right;\">\n",
       "      <th></th>\n",
       "      <th>artist_name</th>\n",
       "      <th>track_name</th>\n",
       "      <th>frequency</th>\n",
       "      <th>trackID</th>\n",
       "      <th>lengthMS</th>\n",
       "      <th>popularity</th>\n",
       "      <th>genre_name</th>\n",
       "      <th>danceability</th>\n",
       "      <th>energy</th>\n",
       "      <th>key</th>\n",
       "      <th>loudness</th>\n",
       "      <th>mode</th>\n",
       "      <th>speechiness</th>\n",
       "      <th>acousticness</th>\n",
       "      <th>liveness</th>\n",
       "      <th>instrumentalness</th>\n",
       "      <th>valence</th>\n",
       "      <th>tempo</th>\n",
       "    </tr>\n",
       "  </thead>\n",
       "  <tbody>\n",
       "    <tr>\n",
       "      <th>0</th>\n",
       "      <td>5 Seconds of Summer</td>\n",
       "      <td>She Looks So Perfect</td>\n",
       "      <td>1</td>\n",
       "      <td>1gugDOSMREb34Xo0c1PlxM</td>\n",
       "      <td>202496.0</td>\n",
       "      <td>68.0</td>\n",
       "      <td>boy band</td>\n",
       "      <td>0.493</td>\n",
       "      <td>0.956</td>\n",
       "      <td>1.0</td>\n",
       "      <td>-4.221</td>\n",
       "      <td>0.0</td>\n",
       "      <td>0.1380</td>\n",
       "      <td>0.000668</td>\n",
       "      <td>0.416</td>\n",
       "      <td>0.000000</td>\n",
       "      <td>0.470</td>\n",
       "      <td>160.006</td>\n",
       "    </tr>\n",
       "    <tr>\n",
       "      <th>1</th>\n",
       "      <td>5 Seconds of Summer</td>\n",
       "      <td>Voodoo Doll</td>\n",
       "      <td>1</td>\n",
       "      <td>6NfZsnrGYkMSZhDBZfovNN</td>\n",
       "      <td>197483.0</td>\n",
       "      <td>53.0</td>\n",
       "      <td>boy band</td>\n",
       "      <td>0.469</td>\n",
       "      <td>0.977</td>\n",
       "      <td>2.0</td>\n",
       "      <td>-4.969</td>\n",
       "      <td>1.0</td>\n",
       "      <td>0.1880</td>\n",
       "      <td>0.009870</td>\n",
       "      <td>0.351</td>\n",
       "      <td>0.000000</td>\n",
       "      <td>0.332</td>\n",
       "      <td>144.167</td>\n",
       "    </tr>\n",
       "    <tr>\n",
       "      <th>2</th>\n",
       "      <td>5 Seconds of Summer</td>\n",
       "      <td>Want You Back</td>\n",
       "      <td>1</td>\n",
       "      <td>2vHfabj6nFebekTYODqntl</td>\n",
       "      <td>173081.0</td>\n",
       "      <td>70.0</td>\n",
       "      <td>boy band</td>\n",
       "      <td>0.618</td>\n",
       "      <td>0.867</td>\n",
       "      <td>0.0</td>\n",
       "      <td>-4.915</td>\n",
       "      <td>1.0</td>\n",
       "      <td>0.0439</td>\n",
       "      <td>0.006990</td>\n",
       "      <td>0.202</td>\n",
       "      <td>0.000001</td>\n",
       "      <td>0.579</td>\n",
       "      <td>98.030</td>\n",
       "    </tr>\n",
       "    <tr>\n",
       "      <th>3</th>\n",
       "      <td>5 Seconds of Summer</td>\n",
       "      <td>Youngblood</td>\n",
       "      <td>48</td>\n",
       "      <td>2iUXsYOEPhVqEBwsqP70rE</td>\n",
       "      <td>203417.0</td>\n",
       "      <td>84.0</td>\n",
       "      <td>boy band</td>\n",
       "      <td>0.596</td>\n",
       "      <td>0.854</td>\n",
       "      <td>7.0</td>\n",
       "      <td>-5.114</td>\n",
       "      <td>0.0</td>\n",
       "      <td>0.4630</td>\n",
       "      <td>0.016900</td>\n",
       "      <td>0.124</td>\n",
       "      <td>0.000000</td>\n",
       "      <td>0.152</td>\n",
       "      <td>120.274</td>\n",
       "    </tr>\n",
       "    <tr>\n",
       "      <th>4</th>\n",
       "      <td>88 Fingers Louie</td>\n",
       "      <td>100 Proof</td>\n",
       "      <td>1</td>\n",
       "      <td>5rDjaUk0Bai4fdqN3y3Ezm</td>\n",
       "      <td>150490.0</td>\n",
       "      <td>40.0</td>\n",
       "      <td>chicago hardcore</td>\n",
       "      <td>0.495</td>\n",
       "      <td>0.987</td>\n",
       "      <td>5.0</td>\n",
       "      <td>-2.719</td>\n",
       "      <td>1.0</td>\n",
       "      <td>0.0457</td>\n",
       "      <td>0.000006</td>\n",
       "      <td>0.121</td>\n",
       "      <td>0.000077</td>\n",
       "      <td>0.536</td>\n",
       "      <td>115.892</td>\n",
       "    </tr>\n",
       "  </tbody>\n",
       "</table>"
      ],
      "text/plain": [
       "<IPython.core.display.HTML object>"
      ]
     },
     "metadata": {},
     "output_type": "display_data"
    }
   ],
   "source": [
    "library_df = scrobbles_dict['library']\n",
    "display(HTML(library_df.head(5).to_html()))\n"
   ]
  },
  {
   "cell_type": "markdown",
   "metadata": {
    "colab": {},
    "colab_type": "code",
    "id": "eXvxSSstm-NZ"
   },
   "source": [
    "Unmapped tracks"
   ]
  },
  {
   "cell_type": "code",
   "execution_count": 69,
   "metadata": {
    "colab": {
     "base_uri": "https://localhost:8080/",
     "height": 1000
    },
    "colab_type": "code",
    "id": "iYTj-E_qm-NS",
    "outputId": "c807e423-1de2-4ca1-8350-2109b1dafa9d",
    "pycharm": {
     "is_executing": false
    },
    "scrolled": true
   },
   "outputs": [
    {
     "data": {
      "text/html": [
       "<table border=\"1\" class=\"dataframe\">\n",
       "  <thead>\n",
       "    <tr style=\"text-align: right;\">\n",
       "      <th></th>\n",
       "      <th>artist_name</th>\n",
       "      <th>track_name</th>\n",
       "      <th>frequency</th>\n",
       "      <th>trackID</th>\n",
       "      <th>lengthMS</th>\n",
       "      <th>popularity</th>\n",
       "      <th>genre_name</th>\n",
       "      <th>danceability</th>\n",
       "      <th>energy</th>\n",
       "      <th>key</th>\n",
       "      <th>loudness</th>\n",
       "      <th>mode</th>\n",
       "      <th>speechiness</th>\n",
       "      <th>acousticness</th>\n",
       "      <th>liveness</th>\n",
       "      <th>instrumentalness</th>\n",
       "      <th>valence</th>\n",
       "      <th>tempo</th>\n",
       "    </tr>\n",
       "  </thead>\n",
       "  <tbody>\n",
       "    <tr>\n",
       "      <th>31</th>\n",
       "      <td>Alessia Cara</td>\n",
       "      <td>How Far I'll Go - From \"Moana\"</td>\n",
       "      <td>1</td>\n",
       "      <td>NaN</td>\n",
       "      <td>NaN</td>\n",
       "      <td>NaN</td>\n",
       "      <td>NaN</td>\n",
       "      <td>NaN</td>\n",
       "      <td>NaN</td>\n",
       "      <td>NaN</td>\n",
       "      <td>NaN</td>\n",
       "      <td>NaN</td>\n",
       "      <td>NaN</td>\n",
       "      <td>NaN</td>\n",
       "      <td>NaN</td>\n",
       "      <td>NaN</td>\n",
       "      <td>NaN</td>\n",
       "      <td>NaN</td>\n",
       "    </tr>\n",
       "    <tr>\n",
       "      <th>124</th>\n",
       "      <td>Avicii</td>\n",
       "      <td>I Could Be The One (Avicii Vs. Nicky Romero) -...</td>\n",
       "      <td>1</td>\n",
       "      <td>NaN</td>\n",
       "      <td>NaN</td>\n",
       "      <td>NaN</td>\n",
       "      <td>NaN</td>\n",
       "      <td>NaN</td>\n",
       "      <td>NaN</td>\n",
       "      <td>NaN</td>\n",
       "      <td>NaN</td>\n",
       "      <td>NaN</td>\n",
       "      <td>NaN</td>\n",
       "      <td>NaN</td>\n",
       "      <td>NaN</td>\n",
       "      <td>NaN</td>\n",
       "      <td>NaN</td>\n",
       "      <td>NaN</td>\n",
       "    </tr>\n",
       "    <tr>\n",
       "      <th>142</th>\n",
       "      <td>BABYMETAL</td>\n",
       "      <td>Head Bangya!!</td>\n",
       "      <td>31</td>\n",
       "      <td>NaN</td>\n",
       "      <td>NaN</td>\n",
       "      <td>NaN</td>\n",
       "      <td>NaN</td>\n",
       "      <td>NaN</td>\n",
       "      <td>NaN</td>\n",
       "      <td>NaN</td>\n",
       "      <td>NaN</td>\n",
       "      <td>NaN</td>\n",
       "      <td>NaN</td>\n",
       "      <td>NaN</td>\n",
       "      <td>NaN</td>\n",
       "      <td>NaN</td>\n",
       "      <td>NaN</td>\n",
       "      <td>NaN</td>\n",
       "    </tr>\n",
       "    <tr>\n",
       "      <th>258</th>\n",
       "      <td>Cage the Elephant</td>\n",
       "      <td>Ain't No Rest for the Wicked - Original Version</td>\n",
       "      <td>19</td>\n",
       "      <td>NaN</td>\n",
       "      <td>NaN</td>\n",
       "      <td>NaN</td>\n",
       "      <td>NaN</td>\n",
       "      <td>NaN</td>\n",
       "      <td>NaN</td>\n",
       "      <td>NaN</td>\n",
       "      <td>NaN</td>\n",
       "      <td>NaN</td>\n",
       "      <td>NaN</td>\n",
       "      <td>NaN</td>\n",
       "      <td>NaN</td>\n",
       "      <td>NaN</td>\n",
       "      <td>NaN</td>\n",
       "      <td>NaN</td>\n",
       "    </tr>\n",
       "    <tr>\n",
       "      <th>277</th>\n",
       "      <td>Cansei de Ser Sexy</td>\n",
       "      <td>Off the Hook</td>\n",
       "      <td>1</td>\n",
       "      <td>NaN</td>\n",
       "      <td>NaN</td>\n",
       "      <td>NaN</td>\n",
       "      <td>NaN</td>\n",
       "      <td>NaN</td>\n",
       "      <td>NaN</td>\n",
       "      <td>NaN</td>\n",
       "      <td>NaN</td>\n",
       "      <td>NaN</td>\n",
       "      <td>NaN</td>\n",
       "      <td>NaN</td>\n",
       "      <td>NaN</td>\n",
       "      <td>NaN</td>\n",
       "      <td>NaN</td>\n",
       "      <td>NaN</td>\n",
       "    </tr>\n",
       "    <tr>\n",
       "      <th>439</th>\n",
       "      <td>Eminem ft Ed Sheeran</td>\n",
       "      <td>River</td>\n",
       "      <td>2</td>\n",
       "      <td>NaN</td>\n",
       "      <td>NaN</td>\n",
       "      <td>NaN</td>\n",
       "      <td>NaN</td>\n",
       "      <td>NaN</td>\n",
       "      <td>NaN</td>\n",
       "      <td>NaN</td>\n",
       "      <td>NaN</td>\n",
       "      <td>NaN</td>\n",
       "      <td>NaN</td>\n",
       "      <td>NaN</td>\n",
       "      <td>NaN</td>\n",
       "      <td>NaN</td>\n",
       "      <td>NaN</td>\n",
       "      <td>NaN</td>\n",
       "    </tr>\n",
       "    <tr>\n",
       "      <th>764</th>\n",
       "      <td>Ke$ha</td>\n",
       "      <td>Animal</td>\n",
       "      <td>24</td>\n",
       "      <td>NaN</td>\n",
       "      <td>NaN</td>\n",
       "      <td>NaN</td>\n",
       "      <td>NaN</td>\n",
       "      <td>NaN</td>\n",
       "      <td>NaN</td>\n",
       "      <td>NaN</td>\n",
       "      <td>NaN</td>\n",
       "      <td>NaN</td>\n",
       "      <td>NaN</td>\n",
       "      <td>NaN</td>\n",
       "      <td>NaN</td>\n",
       "      <td>NaN</td>\n",
       "      <td>NaN</td>\n",
       "      <td>NaN</td>\n",
       "    </tr>\n",
       "    <tr>\n",
       "      <th>765</th>\n",
       "      <td>Ke$ha</td>\n",
       "      <td>TiK ToK</td>\n",
       "      <td>3</td>\n",
       "      <td>NaN</td>\n",
       "      <td>NaN</td>\n",
       "      <td>NaN</td>\n",
       "      <td>NaN</td>\n",
       "      <td>NaN</td>\n",
       "      <td>NaN</td>\n",
       "      <td>NaN</td>\n",
       "      <td>NaN</td>\n",
       "      <td>NaN</td>\n",
       "      <td>NaN</td>\n",
       "      <td>NaN</td>\n",
       "      <td>NaN</td>\n",
       "      <td>NaN</td>\n",
       "      <td>NaN</td>\n",
       "      <td>NaN</td>\n",
       "    </tr>\n",
       "    <tr>\n",
       "      <th>786</th>\n",
       "      <td>Kyary Pamyu Pamyu</td>\n",
       "      <td>にんじゃりばんばん</td>\n",
       "      <td>2</td>\n",
       "      <td>NaN</td>\n",
       "      <td>NaN</td>\n",
       "      <td>NaN</td>\n",
       "      <td>NaN</td>\n",
       "      <td>NaN</td>\n",
       "      <td>NaN</td>\n",
       "      <td>NaN</td>\n",
       "      <td>NaN</td>\n",
       "      <td>NaN</td>\n",
       "      <td>NaN</td>\n",
       "      <td>NaN</td>\n",
       "      <td>NaN</td>\n",
       "      <td>NaN</td>\n",
       "      <td>NaN</td>\n",
       "      <td>NaN</td>\n",
       "    </tr>\n",
       "    <tr>\n",
       "      <th>800</th>\n",
       "      <td>Ladybaby</td>\n",
       "      <td>Hoshinonaisora</td>\n",
       "      <td>1</td>\n",
       "      <td>NaN</td>\n",
       "      <td>NaN</td>\n",
       "      <td>NaN</td>\n",
       "      <td>NaN</td>\n",
       "      <td>NaN</td>\n",
       "      <td>NaN</td>\n",
       "      <td>NaN</td>\n",
       "      <td>NaN</td>\n",
       "      <td>NaN</td>\n",
       "      <td>NaN</td>\n",
       "      <td>NaN</td>\n",
       "      <td>NaN</td>\n",
       "      <td>NaN</td>\n",
       "      <td>NaN</td>\n",
       "      <td>NaN</td>\n",
       "    </tr>\n",
       "    <tr>\n",
       "      <th>923</th>\n",
       "      <td>Machine Gun Kelly</td>\n",
       "      <td>Not Okay</td>\n",
       "      <td>1</td>\n",
       "      <td>NaN</td>\n",
       "      <td>NaN</td>\n",
       "      <td>NaN</td>\n",
       "      <td>NaN</td>\n",
       "      <td>NaN</td>\n",
       "      <td>NaN</td>\n",
       "      <td>NaN</td>\n",
       "      <td>NaN</td>\n",
       "      <td>NaN</td>\n",
       "      <td>NaN</td>\n",
       "      <td>NaN</td>\n",
       "      <td>NaN</td>\n",
       "      <td>NaN</td>\n",
       "      <td>NaN</td>\n",
       "      <td>NaN</td>\n",
       "    </tr>\n",
       "    <tr>\n",
       "      <th>1062</th>\n",
       "      <td>Motörhead</td>\n",
       "      <td>Ace Of Spades - Live From United Kingdom / 1981</td>\n",
       "      <td>4</td>\n",
       "      <td>NaN</td>\n",
       "      <td>NaN</td>\n",
       "      <td>NaN</td>\n",
       "      <td>NaN</td>\n",
       "      <td>NaN</td>\n",
       "      <td>NaN</td>\n",
       "      <td>NaN</td>\n",
       "      <td>NaN</td>\n",
       "      <td>NaN</td>\n",
       "      <td>NaN</td>\n",
       "      <td>NaN</td>\n",
       "      <td>NaN</td>\n",
       "      <td>NaN</td>\n",
       "      <td>NaN</td>\n",
       "      <td>NaN</td>\n",
       "    </tr>\n",
       "    <tr>\n",
       "      <th>1074</th>\n",
       "      <td>My Chemical Romance</td>\n",
       "      <td>I'm Not Okay (I Promise) - I Promise Album Ver...</td>\n",
       "      <td>1</td>\n",
       "      <td>NaN</td>\n",
       "      <td>NaN</td>\n",
       "      <td>NaN</td>\n",
       "      <td>NaN</td>\n",
       "      <td>NaN</td>\n",
       "      <td>NaN</td>\n",
       "      <td>NaN</td>\n",
       "      <td>NaN</td>\n",
       "      <td>NaN</td>\n",
       "      <td>NaN</td>\n",
       "      <td>NaN</td>\n",
       "      <td>NaN</td>\n",
       "      <td>NaN</td>\n",
       "      <td>NaN</td>\n",
       "      <td>NaN</td>\n",
       "    </tr>\n",
       "    <tr>\n",
       "      <th>1293</th>\n",
       "      <td>Phoebe Ryan</td>\n",
       "      <td>Ignition / Do You... (Mashup)</td>\n",
       "      <td>7</td>\n",
       "      <td>NaN</td>\n",
       "      <td>NaN</td>\n",
       "      <td>NaN</td>\n",
       "      <td>NaN</td>\n",
       "      <td>NaN</td>\n",
       "      <td>NaN</td>\n",
       "      <td>NaN</td>\n",
       "      <td>NaN</td>\n",
       "      <td>NaN</td>\n",
       "      <td>NaN</td>\n",
       "      <td>NaN</td>\n",
       "      <td>NaN</td>\n",
       "      <td>NaN</td>\n",
       "      <td>NaN</td>\n",
       "      <td>NaN</td>\n",
       "    </tr>\n",
       "    <tr>\n",
       "      <th>1386</th>\n",
       "      <td>Rock City</td>\n",
       "      <td>Locked Away</td>\n",
       "      <td>3</td>\n",
       "      <td>NaN</td>\n",
       "      <td>NaN</td>\n",
       "      <td>NaN</td>\n",
       "      <td>NaN</td>\n",
       "      <td>NaN</td>\n",
       "      <td>NaN</td>\n",
       "      <td>NaN</td>\n",
       "      <td>NaN</td>\n",
       "      <td>NaN</td>\n",
       "      <td>NaN</td>\n",
       "      <td>NaN</td>\n",
       "      <td>NaN</td>\n",
       "      <td>NaN</td>\n",
       "      <td>NaN</td>\n",
       "      <td>NaN</td>\n",
       "    </tr>\n",
       "    <tr>\n",
       "      <th>1774</th>\n",
       "      <td>Wolf Alice</td>\n",
       "      <td>Don’t Delete The Kisses</td>\n",
       "      <td>1</td>\n",
       "      <td>NaN</td>\n",
       "      <td>NaN</td>\n",
       "      <td>NaN</td>\n",
       "      <td>NaN</td>\n",
       "      <td>NaN</td>\n",
       "      <td>NaN</td>\n",
       "      <td>NaN</td>\n",
       "      <td>NaN</td>\n",
       "      <td>NaN</td>\n",
       "      <td>NaN</td>\n",
       "      <td>NaN</td>\n",
       "      <td>NaN</td>\n",
       "      <td>NaN</td>\n",
       "      <td>NaN</td>\n",
       "      <td>NaN</td>\n",
       "    </tr>\n",
       "    <tr>\n",
       "      <th>1834</th>\n",
       "      <td>coldrain</td>\n",
       "      <td>Runaway feat.Jacoby Shaddix</td>\n",
       "      <td>1</td>\n",
       "      <td>NaN</td>\n",
       "      <td>NaN</td>\n",
       "      <td>NaN</td>\n",
       "      <td>NaN</td>\n",
       "      <td>NaN</td>\n",
       "      <td>NaN</td>\n",
       "      <td>NaN</td>\n",
       "      <td>NaN</td>\n",
       "      <td>NaN</td>\n",
       "      <td>NaN</td>\n",
       "      <td>NaN</td>\n",
       "      <td>NaN</td>\n",
       "      <td>NaN</td>\n",
       "      <td>NaN</td>\n",
       "      <td>NaN</td>\n",
       "    </tr>\n",
       "  </tbody>\n",
       "</table>"
      ],
      "text/plain": [
       "<IPython.core.display.HTML object>"
      ]
     },
     "metadata": {},
     "output_type": "display_data"
    }
   ],
   "source": [
    "unmapped_track_df = lf.unmapped_tracks(library_df)\n",
    "display(HTML(unmapped_track_df.to_html()))\n",
    "#unmapped_track_df.to_csv(\"unmappable.tsv\", sep='\\t')"
   ]
  },
  {
   "cell_type": "markdown",
   "metadata": {
    "colab": {},
    "colab_type": "code",
    "id": "dwTGSFpzm-Nb"
   },
   "source": [
    "Dropping rows with unmapped tracks from scrobbles_df"
   ]
  },
  {
   "cell_type": "code",
   "execution_count": 70,
   "metadata": {},
   "outputs": [
    {
     "data": {
      "text/html": [
       "<table border=\"1\" class=\"dataframe\">\n",
       "  <thead>\n",
       "    <tr style=\"text-align: right;\">\n",
       "      <th></th>\n",
       "      <th>timestamp</th>\n",
       "      <th>datetime</th>\n",
       "      <th>artist_name</th>\n",
       "      <th>artist_mbid</th>\n",
       "      <th>album_name</th>\n",
       "      <th>album_mbid</th>\n",
       "      <th>track_name</th>\n",
       "      <th>track_mbid</th>\n",
       "      <th>frequency</th>\n",
       "      <th>trackID</th>\n",
       "      <th>lengthMS</th>\n",
       "      <th>popularity</th>\n",
       "      <th>genre_name</th>\n",
       "      <th>danceability</th>\n",
       "      <th>energy</th>\n",
       "      <th>key</th>\n",
       "      <th>loudness</th>\n",
       "      <th>mode</th>\n",
       "      <th>speechiness</th>\n",
       "      <th>acousticness</th>\n",
       "      <th>liveness</th>\n",
       "      <th>instrumentalness</th>\n",
       "      <th>valence</th>\n",
       "      <th>tempo</th>\n",
       "    </tr>\n",
       "  </thead>\n",
       "  <tbody>\n",
       "  </tbody>\n",
       "</table>"
      ],
      "text/plain": [
       "<IPython.core.display.HTML object>"
      ]
     },
     "metadata": {},
     "output_type": "display_data"
    }
   ],
   "source": [
    "scrobbles_df = scrobbles_df[pd.notnull(scrobbles_df['trackID'])]\n",
    "display(HTML(lf.unmapped_tracks(scrobbles_df).head(5).to_html()))"
   ]
  },
  {
   "cell_type": "markdown",
   "metadata": {},
   "source": [
    "Dropping rows with unmapped tracks from library_df"
   ]
  },
  {
   "cell_type": "code",
   "execution_count": 71,
   "metadata": {},
   "outputs": [
    {
     "data": {
      "text/html": [
       "<table border=\"1\" class=\"dataframe\">\n",
       "  <thead>\n",
       "    <tr style=\"text-align: right;\">\n",
       "      <th></th>\n",
       "      <th>artist_name</th>\n",
       "      <th>track_name</th>\n",
       "      <th>frequency</th>\n",
       "      <th>trackID</th>\n",
       "      <th>lengthMS</th>\n",
       "      <th>popularity</th>\n",
       "      <th>genre_name</th>\n",
       "      <th>danceability</th>\n",
       "      <th>energy</th>\n",
       "      <th>key</th>\n",
       "      <th>loudness</th>\n",
       "      <th>mode</th>\n",
       "      <th>speechiness</th>\n",
       "      <th>acousticness</th>\n",
       "      <th>liveness</th>\n",
       "      <th>instrumentalness</th>\n",
       "      <th>valence</th>\n",
       "      <th>tempo</th>\n",
       "    </tr>\n",
       "  </thead>\n",
       "  <tbody>\n",
       "  </tbody>\n",
       "</table>"
      ],
      "text/plain": [
       "<IPython.core.display.HTML object>"
      ]
     },
     "metadata": {},
     "output_type": "display_data"
    }
   ],
   "source": [
    "library_df = library_df[pd.notnull(library_df['trackID'])]\n",
    "display(HTML(lf.unmapped_tracks(library_df).head(5).to_html()))"
   ]
  },
  {
   "cell_type": "markdown",
   "metadata": {},
   "source": [
    "creating artist_df to get number of plays from each artist"
   ]
  },
  {
   "cell_type": "code",
   "execution_count": 72,
   "metadata": {},
   "outputs": [
    {
     "data": {
      "text/html": [
       "<table border=\"1\" class=\"dataframe\">\n",
       "  <thead>\n",
       "    <tr style=\"text-align: right;\">\n",
       "      <th></th>\n",
       "      <th>frequency</th>\n",
       "    </tr>\n",
       "    <tr>\n",
       "      <th>artist_name</th>\n",
       "      <th></th>\n",
       "    </tr>\n",
       "  </thead>\n",
       "  <tbody>\n",
       "    <tr>\n",
       "      <th>Linkin Park</th>\n",
       "      <td>734</td>\n",
       "    </tr>\n",
       "    <tr>\n",
       "      <th>Melanie Martinez</th>\n",
       "      <td>567</td>\n",
       "    </tr>\n",
       "    <tr>\n",
       "      <th>Phoebe Ryan</th>\n",
       "      <td>504</td>\n",
       "    </tr>\n",
       "    <tr>\n",
       "      <th>Pierce The Veil</th>\n",
       "      <td>500</td>\n",
       "    </tr>\n",
       "    <tr>\n",
       "      <th>Neck Deep</th>\n",
       "      <td>497</td>\n",
       "    </tr>\n",
       "  </tbody>\n",
       "</table>"
      ],
      "text/plain": [
       "<IPython.core.display.HTML object>"
      ]
     },
     "metadata": {},
     "output_type": "display_data"
    }
   ],
   "source": [
    "artist_df = scrobbles_df.groupby(['artist_name']).size().reset_index()\n",
    "artist_df.rename(columns={0: 'frequency'}, inplace=True)\n",
    "artist_df.set_index(['artist_name'], inplace=True)\n",
    "artist_df.sort_values(\"frequency\",inplace=True, ascending=False)\n",
    "display(HTML(artist_df.head(5).to_html()))"
   ]
  },
  {
   "cell_type": "markdown",
   "metadata": {},
   "source": [
    "plotting barplot for top 20 artists"
   ]
  },
  {
   "cell_type": "code",
   "execution_count": 73,
   "metadata": {},
   "outputs": [
    {
     "data": {
      "image/png": "[encoded data removed]",
      "text/plain": [
       "<matplotlib.figure.Figure at 0x17b47352e80>"
      ]
     },
     "metadata": {},
     "output_type": "display_data"
    }
   ],
   "source": [
    "ax = artist_df.head(20).plot(kind='bar', figsize=[16, 7], width=0.8, alpha=0.7, color='#990000')\n",
    "ax.yaxis.grid(True)\n",
    "ax.set_xticklabels(artist_df.index,rotation=45, rotation_mode='anchor', ha='right')\n",
    "ax.set_title('Top 20 artists')\n",
    "ax.set_xlabel('',)\n",
    "ax.set_ylabel('Number of plays')\n",
    "\n",
    "plt.show()"
   ]
  },
  {
   "cell_type": "markdown",
   "metadata": {},
   "source": [
    "creating artist_df to get number of plays from each artist"
   ]
  },
  {
   "cell_type": "code",
   "execution_count": 74,
   "metadata": {},
   "outputs": [
    {
     "data": {
      "text/html": [
       "<table border=\"1\" class=\"dataframe\">\n",
       "  <thead>\n",
       "    <tr style=\"text-align: right;\">\n",
       "      <th></th>\n",
       "      <th>frequency</th>\n",
       "    </tr>\n",
       "    <tr>\n",
       "      <th>track_name</th>\n",
       "      <th></th>\n",
       "    </tr>\n",
       "  </thead>\n",
       "  <tbody>\n",
       "    <tr>\n",
       "      <th>Besitos</th>\n",
       "      <td>154</td>\n",
       "    </tr>\n",
       "    <tr>\n",
       "      <th>Pin</th>\n",
       "      <td>116</td>\n",
       "    </tr>\n",
       "    <tr>\n",
       "      <th>Soap</th>\n",
       "      <td>105</td>\n",
       "    </tr>\n",
       "    <tr>\n",
       "      <th>Where Do We Go When We Go</th>\n",
       "      <td>98</td>\n",
       "    </tr>\n",
       "    <tr>\n",
       "      <th>Bulls in the Bronx</th>\n",
       "      <td>97</td>\n",
       "    </tr>\n",
       "  </tbody>\n",
       "</table>"
      ],
      "text/plain": [
       "<IPython.core.display.HTML object>"
      ]
     },
     "metadata": {},
     "output_type": "display_data"
    }
   ],
   "source": [
    "track_df = scrobbles_df.groupby(['track_name']).size().reset_index()\n",
    "track_df.rename(columns={0: 'frequency'}, inplace=True)\n",
    "track_df.set_index(['track_name'], inplace=True)\n",
    "track_df.sort_values(\"frequency\",inplace=True, ascending=False)\n",
    "display(HTML(track_df.head(5).to_html()))"
   ]
  },
  {
   "cell_type": "markdown",
   "metadata": {},
   "source": [
    "plotting barplot for top 20 tracks"
   ]
  },
  {
   "cell_type": "code",
   "execution_count": 75,
   "metadata": {},
   "outputs": [
    {
     "data": {
      "image/png": "[encoded data removed]",
      "text/plain": [
       "<matplotlib.figure.Figure at 0x17b437dd908>"
      ]
     },
     "metadata": {},
     "output_type": "display_data"
    }
   ],
   "source": [
    "ax = track_df.head(20).plot(kind='bar', figsize=[16, 7], width=0.8, alpha=0.7, color='#990000')\n",
    "ax.yaxis.grid(True)\n",
    "ax.set_xticklabels(track_df.index,rotation=55, rotation_mode='anchor', ha='right')\n",
    "ax.set_title('Top 20 tracks')\n",
    "ax.set_xlabel('',)\n",
    "ax.set_ylabel('Number of plays')\n",
    "\n",
    "plt.show()"
   ]
  },
  {
   "cell_type": "markdown",
   "metadata": {},
   "source": [
    "creating album_df to get number of plays from each artist"
   ]
  },
  {
   "cell_type": "code",
   "execution_count": 76,
   "metadata": {},
   "outputs": [
    {
     "data": {
      "text/html": [
       "<table border=\"1\" class=\"dataframe\">\n",
       "  <thead>\n",
       "    <tr style=\"text-align: right;\">\n",
       "      <th></th>\n",
       "      <th>frequency</th>\n",
       "    </tr>\n",
       "    <tr>\n",
       "      <th>album_name</th>\n",
       "      <th></th>\n",
       "    </tr>\n",
       "  </thead>\n",
       "  <tbody>\n",
       "    <tr>\n",
       "      <th>Cry Baby (Deluxe)</th>\n",
       "      <td>495</td>\n",
       "    </tr>\n",
       "    <tr>\n",
       "      <th>Art Angels</th>\n",
       "      <td>266</td>\n",
       "    </tr>\n",
       "    <tr>\n",
       "      <th>Collide With the Sky</th>\n",
       "      <td>245</td>\n",
       "    </tr>\n",
       "    <tr>\n",
       "      <th>Hybrid Theory (Bonus Track Version)</th>\n",
       "      <td>230</td>\n",
       "    </tr>\n",
       "    <tr>\n",
       "      <th>The Peace and the Panic</th>\n",
       "      <td>226</td>\n",
       "    </tr>\n",
       "  </tbody>\n",
       "</table>"
      ],
      "text/plain": [
       "<IPython.core.display.HTML object>"
      ]
     },
     "metadata": {},
     "output_type": "display_data"
    }
   ],
   "source": [
    "album_df = scrobbles_df.groupby(['album_name']).size().reset_index()\n",
    "album_df.rename(columns={0: 'frequency'}, inplace=True)\n",
    "album_df.set_index(['album_name'], inplace=True)\n",
    "album_df.sort_values(\"frequency\",inplace=True, ascending=False)\n",
    "display(HTML(album_df.head(5).to_html()))"
   ]
  },
  {
   "cell_type": "code",
   "execution_count": 77,
   "metadata": {},
   "outputs": [
    {
     "data": {
      "image/png": "[encoded data removed]",
      "text/plain": [
       "<matplotlib.figure.Figure at 0x17b47352710>"
      ]
     },
     "metadata": {},
     "output_type": "display_data"
    }
   ],
   "source": [
    "ax = album_df.head(20).plot(kind='bar', figsize=[16, 7], width=0.8, alpha=0.7, color='#990000')\n",
    "ax.yaxis.grid(True)\n",
    "ax.set_xticklabels(album_df.index,rotation=55, rotation_mode='anchor', ha='right')\n",
    "ax.set_title('Top 20 albums')\n",
    "ax.set_xlabel('',)\n",
    "ax.set_ylabel('Number of plays')\n",
    "\n",
    "plt.show()"
   ]
  },
  {
   "cell_type": "markdown",
   "metadata": {},
   "source": [
    "creating genre_df to get number of plays from each artist"
   ]
  },
  {
   "cell_type": "code",
   "execution_count": 78,
   "metadata": {},
   "outputs": [
    {
     "data": {
      "text/html": [
       "<table border=\"1\" class=\"dataframe\">\n",
       "  <thead>\n",
       "    <tr style=\"text-align: right;\">\n",
       "      <th></th>\n",
       "      <th>frequency</th>\n",
       "    </tr>\n",
       "    <tr>\n",
       "      <th>genre_name</th>\n",
       "      <th></th>\n",
       "    </tr>\n",
       "  </thead>\n",
       "  <tbody>\n",
       "    <tr>\n",
       "      <th>alternative metal</th>\n",
       "      <td>2341</td>\n",
       "    </tr>\n",
       "    <tr>\n",
       "      <th>dance pop</th>\n",
       "      <td>2329</td>\n",
       "    </tr>\n",
       "    <tr>\n",
       "      <th>anthem emo</th>\n",
       "      <td>1248</td>\n",
       "    </tr>\n",
       "    <tr>\n",
       "      <th>pop punk</th>\n",
       "      <td>982</td>\n",
       "    </tr>\n",
       "    <tr>\n",
       "      <th>modern alternative rock</th>\n",
       "      <td>613</td>\n",
       "    </tr>\n",
       "  </tbody>\n",
       "</table>"
      ],
      "text/plain": [
       "<IPython.core.display.HTML object>"
      ]
     },
     "metadata": {},
     "output_type": "display_data"
    }
   ],
   "source": [
    "genre_df = scrobbles_df.groupby(['genre_name']).size().reset_index()\n",
    "genre_df.rename(columns={0: 'frequency'}, inplace=True)\n",
    "genre_df.set_index(['genre_name'], inplace=True)\n",
    "genre_df.sort_values(\"frequency\",inplace=True, ascending=False)\n",
    "display(HTML(genre_df.head(5).to_html()))"
   ]
  },
  {
   "cell_type": "code",
   "execution_count": 80,
   "metadata": {},
   "outputs": [
    {
     "data": {
      "image/png": "[encoded data removed]",
      "text/plain": [
       "<matplotlib.figure.Figure at 0x17b47bacac8>"
      ]
     },
     "metadata": {},
     "output_type": "display_data"
    }
   ],
   "source": [
    "ax = genre_df.head(20).plot(kind='bar', figsize=[16, 7], width=0.8, alpha=0.7, color='#990000')\n",
    "ax.yaxis.grid(True)\n",
    "ax.set_xticklabels(genre_df.index,rotation=55, rotation_mode='anchor', ha='right')\n",
    "ax.set_title('Top 20 genres')\n",
    "ax.set_xlabel('',)\n",
    "ax.set_ylabel('Number of plays')\n",
    "\n",
    "plt.show()"
   ]
  },
  {
   "cell_type": "code",
   "execution_count": null,
   "metadata": {},
   "outputs": [],
   "source": []
  }
 ],
 "metadata": {
  "colab": {
   "collapsed_sections": [],
   "name": "Untitled.ipynb",
   "provenance": [],
   "version": "0.3.2"
  },
  "kernelspec": {
   "display_name": "Python 3",
   "language": "python",
   "name": "python3"
  },
  "language_info": {
   "codemirror_mode": {
    "name": "ipython",
    "version": 3
   },
   "file_extension": ".py",
   "mimetype": "text/x-python",
   "name": "python",
   "nbconvert_exporter": "python",
   "pygments_lexer": "ipython3",
   "version": "3.6.4"
  },
  "pycharm": {
   "stem_cell": {
    "cell_type": "raw",
    "metadata": {
     "collapsed": false
    },
    "source": []
   }
  }
 },
 "nbformat": 4,
 "nbformat_minor": 1
}
